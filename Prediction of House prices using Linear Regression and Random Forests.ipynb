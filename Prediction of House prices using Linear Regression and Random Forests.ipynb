{
 "cells": [
  {
   "cell_type": "markdown",
   "metadata": {
    "id": "rb8bI-CWfXkJ"
   },
   "source": [
    "<h1>Prediction of House prices using Linear Regression and Random Forests</h1>\n",
    "\n",
    "This task's objectives are to:\n",
    "\n",
    "\n",
    "\n",
    "*   Apply end-to-end machine learning steps on a house prices dataset\n",
    "*   Use a hands-on approach to learning scikit-learn and its uses in machine learning\n",
    "\n"
   ]
  },
  {
   "cell_type": "markdown",
   "metadata": {
    "id": "bI_6Np90Kyzo"
   },
   "source": [
    "<h1><b>End-to-end Machine Learning</b></h1>"
   ]
  },
  {
   "cell_type": "markdown",
   "metadata": {
    "id": "iSp7BwiZw9zS"
   },
   "source": [
    "Steps are to \n",
    "\n",
    "\n",
    "\n",
    "1.   Download the data\n",
    "2.   Understand and Clean the Data\n",
    "3.   Preprocess and Feature Engineer the Data\n",
    "4.   Train a model using the data\n",
    "5.   Measure the model's performance using cross validation\n",
    "6.   Do hyperparameter tuning on the model and/or try different models\n",
    "7.   Use the final selected model to make predictions on the test set\n",
    "\n"
   ]
  },
  {
   "cell_type": "markdown",
   "metadata": {
    "id": "HIOyuYMkKyz-"
   },
   "source": [
    "## Download the Data"
   ]
  },
  {
   "cell_type": "markdown",
   "metadata": {
    "id": "CF9mjNUPrL-F"
   },
   "source": [
    "This part really depends on the problem and how it's presented to you. \n",
    "\n",
    "For example, I have uploaded the data to Kaggle so you can download it from there. \n",
    "\n",
    "Google Colab also provides the option to upload files but those will be deleted once the Colab session ends so it's better to download the data using code so you can re-run that cell every time you want to download the data.\n",
    "\n",
    "For this task, however, I have uploaded the data to Google Drive and it can be downloaded as so:"
   ]
  },
  {
   "cell_type": "markdown",
   "metadata": {
    "id": "vEpzxdDEsgUy"
   },
   "source": [
    "<h2>Extra information in case you're wondering what the next cell does:\n",
    "</h2>\n",
    "\n",
    "\n",
    "The exclamation mark allows us to use bash commands, which is a way to use the operating system from the command line.\n",
    "\n",
    "Most common and useful commands are:\n",
    "\n",
    "1. pwd \n",
    "\n",
    "(short for print working directory to print where we are executing the command)\n",
    "\n",
    "2. ls \n",
    "\n",
    "(short for list directory to list directory contents)\n",
    "\n",
    "3. cd \n",
    "\n",
    "(short for change directory to change our current directory)\n",
    "\n",
    "\n",
    "4. mkdir \n",
    "\n",
    "(short for make directory to create a new directory)\n",
    "\n",
    "5. mv \n",
    "\n",
    "(short for move to move a file or folder from one location to another)\n",
    "\n",
    "6. cp \n",
    "\n",
    "(short for copy where it copies a file from one location to another)\n",
    "\n",
    "\n",
    "So gdown is actually a program that comes pre-installed with colab and it allows us to download a file from Google Drive using its id."
   ]
  },
  {
   "cell_type": "code",
   "execution_count": null,
   "metadata": {
    "colab": {
     "base_uri": "https://localhost:8080/"
    },
    "id": "wx4eAu6EsEni",
    "outputId": "4991e32c-3a5a-4cff-c94f-0b261dd7de65"
   },
   "outputs": [
    {
     "name": "stdout",
     "output_type": "stream",
     "text": [
      "Downloading...\n",
      "From: https://drive.google.com/uc?id=1lXJTBP4mOVnS2nMTusEcUHjqWgZGNkLW\n",
      "To: /content/house_prices_train.csv\n",
      "100% 1.06M/1.06M [00:00<00:00, 93.2MB/s]\n",
      "Downloading...\n",
      "From: https://drive.google.com/uc?id=1U2IWwN78Td1XQz38_u60pXsU_WgQzCtB\n",
      "To: /content/house_prices_test.csv\n",
      "100% 208k/208k [00:00<00:00, 61.8MB/s]\n",
      "Downloading...\n",
      "From: https://drive.google.com/uc?id=1RwXmgcY6rh-JPgGHWLRn5lzom8YMIIFC\n",
      "To: /content/sample_submission_houses.csv\n",
      "100% 49.8k/49.8k [00:00<00:00, 35.6MB/s]\n"
     ]
    }
   ],
   "source": [
    "!gdown 1lXJTBP4mOVnS2nMTusEcUHjqWgZGNkLW\n",
    "!gdown 1U2IWwN78Td1XQz38_u60pXsU_WgQzCtB\n",
    "!gdown 1RwXmgcY6rh-JPgGHWLRn5lzom8YMIIFC"
   ]
  },
  {
   "cell_type": "markdown",
   "metadata": {
    "id": "epZTgIf8Kyz9"
   },
   "source": [
    "<h2>Our goal for this task is to use the house_prices_train.csv dataset to create a model and use that model to predict prices for house_prices_test.csv\n",
    "\n",
    "We will then submit the given price predictions to Kaggle in the same format as the file sample_submission.csv</h2>"
   ]
  },
  {
   "cell_type": "code",
   "execution_count": null,
   "metadata": {
    "id": "3Jni2de1Kyz_"
   },
   "outputs": [],
   "source": [
    "import pandas as pd\n",
    "#Helps make printing numbers look better\n",
    "pd.options.display.float_format = '{:.2f}'.format\n",
    "\n",
    "train = pd.read_csv('house_prices_train.csv')\n",
    "\n"
   ]
  },
  {
   "cell_type": "markdown",
   "metadata": {
    "id": "2dR801oUKy0A"
   },
   "source": [
    "## Take a Quick Look at the Data Structure"
   ]
  },
  {
   "cell_type": "markdown",
   "metadata": {
    "id": "X7jDgpnm36MU"
   },
   "source": [
    "<h1><b>Q1: Use some pandas built-in functions like head, describe, value_counts, etc. to take an initial look at the data</b></h1>"
   ]
  },
  {
   "cell_type": "code",
   "execution_count": null,
   "metadata": {
    "colab": {
     "base_uri": "https://localhost:8080/"
    },
    "id": "Y5HVZsIjsIjs",
    "outputId": "f8f7c287-06e0-405f-fa4b-6cff2659b482"
   },
   "outputs": [
    {
     "name": "stdout",
     "output_type": "stream",
     "text": [
      "ad_id: Number of unique values 14162\n",
      "==========================================================\n",
      "type: Number of unique values 5\n",
      "==========================================================\n",
      "area: Number of unique values 382\n",
      "==========================================================\n",
      "bedrooms: Number of unique values 11\n",
      "==========================================================\n",
      "bathrooms: Number of unique values 9\n",
      "==========================================================\n",
      "level: Number of unique values 13\n",
      "==========================================================\n",
      "furnished: Number of unique values 2\n",
      "==========================================================\n",
      "rent: Number of unique values 2\n",
      "==========================================================\n",
      "city: Number of unique values 24\n",
      "==========================================================\n",
      "region: Number of unique values 166\n",
      "==========================================================\n",
      "price: Number of unique values 1981\n",
      "==========================================================\n"
     ]
    }
   ],
   "source": [
    "for column in train.columns:\n",
    "  print(f\"{column}: Number of unique values {train[column].nunique()}\")\n",
    "  print(\"==========================================================\")"
   ]
  },
  {
   "cell_type": "code",
   "execution_count": null,
   "metadata": {
    "colab": {
     "base_uri": "https://localhost:8080/",
     "height": 300
    },
    "id": "uo6BcXcOsBuM",
    "outputId": "a02669bd-7c67-45a1-f4cf-17ba31065de0"
   },
   "outputs": [
    {
     "data": {
      "text/html": [
       "\n",
       "  <div id=\"df-c10b5cc3-2e01-4b67-a09e-fd28f28ccba9\">\n",
       "    <div class=\"colab-df-container\">\n",
       "      <div>\n",
       "<style scoped>\n",
       "    .dataframe tbody tr th:only-of-type {\n",
       "        vertical-align: middle;\n",
       "    }\n",
       "\n",
       "    .dataframe tbody tr th {\n",
       "        vertical-align: top;\n",
       "    }\n",
       "\n",
       "    .dataframe thead th {\n",
       "        text-align: right;\n",
       "    }\n",
       "</style>\n",
       "<table border=\"1\" class=\"dataframe\">\n",
       "  <thead>\n",
       "    <tr style=\"text-align: right;\">\n",
       "      <th></th>\n",
       "      <th>area</th>\n",
       "      <th>bathrooms</th>\n",
       "      <th>price</th>\n",
       "    </tr>\n",
       "  </thead>\n",
       "  <tbody>\n",
       "    <tr>\n",
       "      <th>count</th>\n",
       "      <td>14162.00</td>\n",
       "      <td>14162.00</td>\n",
       "      <td>14162.00</td>\n",
       "    </tr>\n",
       "    <tr>\n",
       "      <th>mean</th>\n",
       "      <td>165.58</td>\n",
       "      <td>2.13</td>\n",
       "      <td>1226184.72</td>\n",
       "    </tr>\n",
       "    <tr>\n",
       "      <th>std</th>\n",
       "      <td>71.08</td>\n",
       "      <td>0.86</td>\n",
       "      <td>1861981.29</td>\n",
       "    </tr>\n",
       "    <tr>\n",
       "      <th>min</th>\n",
       "      <td>1.00</td>\n",
       "      <td>1.00</td>\n",
       "      <td>200.00</td>\n",
       "    </tr>\n",
       "    <tr>\n",
       "      <th>25%</th>\n",
       "      <td>120.00</td>\n",
       "      <td>1.00</td>\n",
       "      <td>10000.00</td>\n",
       "    </tr>\n",
       "    <tr>\n",
       "      <th>50%</th>\n",
       "      <td>155.00</td>\n",
       "      <td>2.00</td>\n",
       "      <td>303500.00</td>\n",
       "    </tr>\n",
       "    <tr>\n",
       "      <th>75%</th>\n",
       "      <td>200.00</td>\n",
       "      <td>3.00</td>\n",
       "      <td>2000000.00</td>\n",
       "    </tr>\n",
       "    <tr>\n",
       "      <th>max</th>\n",
       "      <td>975.00</td>\n",
       "      <td>9.00</td>\n",
       "      <td>50000000.00</td>\n",
       "    </tr>\n",
       "  </tbody>\n",
       "</table>\n",
       "</div>\n",
       "      <button class=\"colab-df-convert\" onclick=\"convertToInteractive('df-c10b5cc3-2e01-4b67-a09e-fd28f28ccba9')\"\n",
       "              title=\"Convert this dataframe to an interactive table.\"\n",
       "              style=\"display:none;\">\n",
       "        \n",
       "  <svg xmlns=\"http://www.w3.org/2000/svg\" height=\"24px\"viewBox=\"0 0 24 24\"\n",
       "       width=\"24px\">\n",
       "    <path d=\"M0 0h24v24H0V0z\" fill=\"none\"/>\n",
       "    <path d=\"M18.56 5.44l.94 2.06.94-2.06 2.06-.94-2.06-.94-.94-2.06-.94 2.06-2.06.94zm-11 1L8.5 8.5l.94-2.06 2.06-.94-2.06-.94L8.5 2.5l-.94 2.06-2.06.94zm10 10l.94 2.06.94-2.06 2.06-.94-2.06-.94-.94-2.06-.94 2.06-2.06.94z\"/><path d=\"M17.41 7.96l-1.37-1.37c-.4-.4-.92-.59-1.43-.59-.52 0-1.04.2-1.43.59L10.3 9.45l-7.72 7.72c-.78.78-.78 2.05 0 2.83L4 21.41c.39.39.9.59 1.41.59.51 0 1.02-.2 1.41-.59l7.78-7.78 2.81-2.81c.8-.78.8-2.07 0-2.86zM5.41 20L4 18.59l7.72-7.72 1.47 1.35L5.41 20z\"/>\n",
       "  </svg>\n",
       "      </button>\n",
       "      \n",
       "  <style>\n",
       "    .colab-df-container {\n",
       "      display:flex;\n",
       "      flex-wrap:wrap;\n",
       "      gap: 12px;\n",
       "    }\n",
       "\n",
       "    .colab-df-convert {\n",
       "      background-color: #E8F0FE;\n",
       "      border: none;\n",
       "      border-radius: 50%;\n",
       "      cursor: pointer;\n",
       "      display: none;\n",
       "      fill: #1967D2;\n",
       "      height: 32px;\n",
       "      padding: 0 0 0 0;\n",
       "      width: 32px;\n",
       "    }\n",
       "\n",
       "    .colab-df-convert:hover {\n",
       "      background-color: #E2EBFA;\n",
       "      box-shadow: 0px 1px 2px rgba(60, 64, 67, 0.3), 0px 1px 3px 1px rgba(60, 64, 67, 0.15);\n",
       "      fill: #174EA6;\n",
       "    }\n",
       "\n",
       "    [theme=dark] .colab-df-convert {\n",
       "      background-color: #3B4455;\n",
       "      fill: #D2E3FC;\n",
       "    }\n",
       "\n",
       "    [theme=dark] .colab-df-convert:hover {\n",
       "      background-color: #434B5C;\n",
       "      box-shadow: 0px 1px 3px 1px rgba(0, 0, 0, 0.15);\n",
       "      filter: drop-shadow(0px 1px 2px rgba(0, 0, 0, 0.3));\n",
       "      fill: #FFFFFF;\n",
       "    }\n",
       "  </style>\n",
       "\n",
       "      <script>\n",
       "        const buttonEl =\n",
       "          document.querySelector('#df-c10b5cc3-2e01-4b67-a09e-fd28f28ccba9 button.colab-df-convert');\n",
       "        buttonEl.style.display =\n",
       "          google.colab.kernel.accessAllowed ? 'block' : 'none';\n",
       "\n",
       "        async function convertToInteractive(key) {\n",
       "          const element = document.querySelector('#df-c10b5cc3-2e01-4b67-a09e-fd28f28ccba9');\n",
       "          const dataTable =\n",
       "            await google.colab.kernel.invokeFunction('convertToInteractive',\n",
       "                                                     [key], {});\n",
       "          if (!dataTable) return;\n",
       "\n",
       "          const docLinkHtml = 'Like what you see? Visit the ' +\n",
       "            '<a target=\"_blank\" href=https://colab.research.google.com/notebooks/data_table.ipynb>data table notebook</a>'\n",
       "            + ' to learn more about interactive tables.';\n",
       "          element.innerHTML = '';\n",
       "          dataTable['output_type'] = 'display_data';\n",
       "          await google.colab.output.renderOutput(dataTable, element);\n",
       "          const docLink = document.createElement('div');\n",
       "          docLink.innerHTML = docLinkHtml;\n",
       "          element.appendChild(docLink);\n",
       "        }\n",
       "      </script>\n",
       "    </div>\n",
       "  </div>\n",
       "  "
      ],
      "text/plain": [
       "          area  bathrooms       price\n",
       "count 14162.00   14162.00    14162.00\n",
       "mean    165.58       2.13  1226184.72\n",
       "std      71.08       0.86  1861981.29\n",
       "min       1.00       1.00      200.00\n",
       "25%     120.00       1.00    10000.00\n",
       "50%     155.00       2.00   303500.00\n",
       "75%     200.00       3.00  2000000.00\n",
       "max     975.00       9.00 50000000.00"
      ]
     },
     "execution_count": 4,
     "metadata": {},
     "output_type": "execute_result"
    }
   ],
   "source": [
    "train.describe()"
   ]
  },
  {
   "cell_type": "code",
   "execution_count": null,
   "metadata": {
    "colab": {
     "base_uri": "https://localhost:8080/",
     "height": 363
    },
    "id": "7SsheSSMPe5g",
    "outputId": "cc708d18-57d0-4ca0-8afd-78bac7b26f0b"
   },
   "outputs": [
    {
     "data": {
      "text/html": [
       "\n",
       "  <div id=\"df-fd2667a2-01d1-4c7b-b597-73a85d47135d\">\n",
       "    <div class=\"colab-df-container\">\n",
       "      <div>\n",
       "<style scoped>\n",
       "    .dataframe tbody tr th:only-of-type {\n",
       "        vertical-align: middle;\n",
       "    }\n",
       "\n",
       "    .dataframe tbody tr th {\n",
       "        vertical-align: top;\n",
       "    }\n",
       "\n",
       "    .dataframe thead th {\n",
       "        text-align: right;\n",
       "    }\n",
       "</style>\n",
       "<table border=\"1\" class=\"dataframe\">\n",
       "  <thead>\n",
       "    <tr style=\"text-align: right;\">\n",
       "      <th></th>\n",
       "      <th>ad_id</th>\n",
       "      <th>type</th>\n",
       "      <th>area</th>\n",
       "      <th>bedrooms</th>\n",
       "      <th>bathrooms</th>\n",
       "      <th>level</th>\n",
       "      <th>furnished</th>\n",
       "      <th>rent</th>\n",
       "      <th>city</th>\n",
       "      <th>region</th>\n",
       "      <th>price</th>\n",
       "    </tr>\n",
       "  </thead>\n",
       "  <tbody>\n",
       "    <tr>\n",
       "      <th>0</th>\n",
       "      <td>Ad id 194203902</td>\n",
       "      <td>apartment</td>\n",
       "      <td>155.00</td>\n",
       "      <td>2</td>\n",
       "      <td>3</td>\n",
       "      <td>ground</td>\n",
       "      <td>no</td>\n",
       "      <td>no</td>\n",
       "      <td>cairo</td>\n",
       "      <td>new cairo - el tagamoa</td>\n",
       "      <td>2569700.00</td>\n",
       "    </tr>\n",
       "    <tr>\n",
       "      <th>1</th>\n",
       "      <td>Ad id 192722330</td>\n",
       "      <td>apartment</td>\n",
       "      <td>160.00</td>\n",
       "      <td>2</td>\n",
       "      <td>1</td>\n",
       "      <td>2</td>\n",
       "      <td>no</td>\n",
       "      <td>yes</td>\n",
       "      <td>alexandria</td>\n",
       "      <td>kafr abdo</td>\n",
       "      <td>7000.00</td>\n",
       "    </tr>\n",
       "    <tr>\n",
       "      <th>2</th>\n",
       "      <td>Ad id 194289766</td>\n",
       "      <td>apartment</td>\n",
       "      <td>70.00</td>\n",
       "      <td>2</td>\n",
       "      <td>1</td>\n",
       "      <td>ground</td>\n",
       "      <td>no</td>\n",
       "      <td>no</td>\n",
       "      <td>cairo</td>\n",
       "      <td>nasr city</td>\n",
       "      <td>50000.00</td>\n",
       "    </tr>\n",
       "    <tr>\n",
       "      <th>3</th>\n",
       "      <td>Ad id 194361900</td>\n",
       "      <td>apartment</td>\n",
       "      <td>220.00</td>\n",
       "      <td>3</td>\n",
       "      <td>3</td>\n",
       "      <td>10+</td>\n",
       "      <td>no</td>\n",
       "      <td>no</td>\n",
       "      <td>dakahlia</td>\n",
       "      <td>mansura</td>\n",
       "      <td>2475000.00</td>\n",
       "    </tr>\n",
       "    <tr>\n",
       "      <th>4</th>\n",
       "      <td>Ad id 194365829</td>\n",
       "      <td>apartment</td>\n",
       "      <td>140.00</td>\n",
       "      <td>3</td>\n",
       "      <td>2</td>\n",
       "      <td>4</td>\n",
       "      <td>no</td>\n",
       "      <td>no</td>\n",
       "      <td>cairo</td>\n",
       "      <td>madinaty</td>\n",
       "      <td>3000000.00</td>\n",
       "    </tr>\n",
       "    <tr>\n",
       "      <th>5</th>\n",
       "      <td>Ad id 194285869</td>\n",
       "      <td>apartment</td>\n",
       "      <td>80.00</td>\n",
       "      <td>3</td>\n",
       "      <td>1</td>\n",
       "      <td>3</td>\n",
       "      <td>no</td>\n",
       "      <td>no</td>\n",
       "      <td>qalyubia</td>\n",
       "      <td>shubra al-khaimah</td>\n",
       "      <td>360000.00</td>\n",
       "    </tr>\n",
       "    <tr>\n",
       "      <th>6</th>\n",
       "      <td>Ad id 194110023</td>\n",
       "      <td>studio</td>\n",
       "      <td>88.00</td>\n",
       "      <td>1</td>\n",
       "      <td>1</td>\n",
       "      <td>ground</td>\n",
       "      <td>yes</td>\n",
       "      <td>no</td>\n",
       "      <td>cairo</td>\n",
       "      <td>new cairo - el tagamoa</td>\n",
       "      <td>2200000.00</td>\n",
       "    </tr>\n",
       "    <tr>\n",
       "      <th>7</th>\n",
       "      <td>Ad id 194164107</td>\n",
       "      <td>apartment</td>\n",
       "      <td>207.00</td>\n",
       "      <td>3</td>\n",
       "      <td>2</td>\n",
       "      <td>6</td>\n",
       "      <td>no</td>\n",
       "      <td>no</td>\n",
       "      <td>alexandria</td>\n",
       "      <td>san stefano</td>\n",
       "      <td>2900000.00</td>\n",
       "    </tr>\n",
       "    <tr>\n",
       "      <th>8</th>\n",
       "      <td>Ad id 194234446</td>\n",
       "      <td>apartment</td>\n",
       "      <td>200.00</td>\n",
       "      <td>2</td>\n",
       "      <td>2</td>\n",
       "      <td>3</td>\n",
       "      <td>yes</td>\n",
       "      <td>yes</td>\n",
       "      <td>cairo</td>\n",
       "      <td>new cairo - el tagamoa</td>\n",
       "      <td>18000.00</td>\n",
       "    </tr>\n",
       "    <tr>\n",
       "      <th>9</th>\n",
       "      <td>Ad id 194314892</td>\n",
       "      <td>apartment</td>\n",
       "      <td>133.00</td>\n",
       "      <td>2</td>\n",
       "      <td>2</td>\n",
       "      <td>2</td>\n",
       "      <td>NaN</td>\n",
       "      <td>no</td>\n",
       "      <td>cairo</td>\n",
       "      <td>new cairo - el tagamoa</td>\n",
       "      <td>3500000.00</td>\n",
       "    </tr>\n",
       "  </tbody>\n",
       "</table>\n",
       "</div>\n",
       "      <button class=\"colab-df-convert\" onclick=\"convertToInteractive('df-fd2667a2-01d1-4c7b-b597-73a85d47135d')\"\n",
       "              title=\"Convert this dataframe to an interactive table.\"\n",
       "              style=\"display:none;\">\n",
       "        \n",
       "  <svg xmlns=\"http://www.w3.org/2000/svg\" height=\"24px\"viewBox=\"0 0 24 24\"\n",
       "       width=\"24px\">\n",
       "    <path d=\"M0 0h24v24H0V0z\" fill=\"none\"/>\n",
       "    <path d=\"M18.56 5.44l.94 2.06.94-2.06 2.06-.94-2.06-.94-.94-2.06-.94 2.06-2.06.94zm-11 1L8.5 8.5l.94-2.06 2.06-.94-2.06-.94L8.5 2.5l-.94 2.06-2.06.94zm10 10l.94 2.06.94-2.06 2.06-.94-2.06-.94-.94-2.06-.94 2.06-2.06.94z\"/><path d=\"M17.41 7.96l-1.37-1.37c-.4-.4-.92-.59-1.43-.59-.52 0-1.04.2-1.43.59L10.3 9.45l-7.72 7.72c-.78.78-.78 2.05 0 2.83L4 21.41c.39.39.9.59 1.41.59.51 0 1.02-.2 1.41-.59l7.78-7.78 2.81-2.81c.8-.78.8-2.07 0-2.86zM5.41 20L4 18.59l7.72-7.72 1.47 1.35L5.41 20z\"/>\n",
       "  </svg>\n",
       "      </button>\n",
       "      \n",
       "  <style>\n",
       "    .colab-df-container {\n",
       "      display:flex;\n",
       "      flex-wrap:wrap;\n",
       "      gap: 12px;\n",
       "    }\n",
       "\n",
       "    .colab-df-convert {\n",
       "      background-color: #E8F0FE;\n",
       "      border: none;\n",
       "      border-radius: 50%;\n",
       "      cursor: pointer;\n",
       "      display: none;\n",
       "      fill: #1967D2;\n",
       "      height: 32px;\n",
       "      padding: 0 0 0 0;\n",
       "      width: 32px;\n",
       "    }\n",
       "\n",
       "    .colab-df-convert:hover {\n",
       "      background-color: #E2EBFA;\n",
       "      box-shadow: 0px 1px 2px rgba(60, 64, 67, 0.3), 0px 1px 3px 1px rgba(60, 64, 67, 0.15);\n",
       "      fill: #174EA6;\n",
       "    }\n",
       "\n",
       "    [theme=dark] .colab-df-convert {\n",
       "      background-color: #3B4455;\n",
       "      fill: #D2E3FC;\n",
       "    }\n",
       "\n",
       "    [theme=dark] .colab-df-convert:hover {\n",
       "      background-color: #434B5C;\n",
       "      box-shadow: 0px 1px 3px 1px rgba(0, 0, 0, 0.15);\n",
       "      filter: drop-shadow(0px 1px 2px rgba(0, 0, 0, 0.3));\n",
       "      fill: #FFFFFF;\n",
       "    }\n",
       "  </style>\n",
       "\n",
       "      <script>\n",
       "        const buttonEl =\n",
       "          document.querySelector('#df-fd2667a2-01d1-4c7b-b597-73a85d47135d button.colab-df-convert');\n",
       "        buttonEl.style.display =\n",
       "          google.colab.kernel.accessAllowed ? 'block' : 'none';\n",
       "\n",
       "        async function convertToInteractive(key) {\n",
       "          const element = document.querySelector('#df-fd2667a2-01d1-4c7b-b597-73a85d47135d');\n",
       "          const dataTable =\n",
       "            await google.colab.kernel.invokeFunction('convertToInteractive',\n",
       "                                                     [key], {});\n",
       "          if (!dataTable) return;\n",
       "\n",
       "          const docLinkHtml = 'Like what you see? Visit the ' +\n",
       "            '<a target=\"_blank\" href=https://colab.research.google.com/notebooks/data_table.ipynb>data table notebook</a>'\n",
       "            + ' to learn more about interactive tables.';\n",
       "          element.innerHTML = '';\n",
       "          dataTable['output_type'] = 'display_data';\n",
       "          await google.colab.output.renderOutput(dataTable, element);\n",
       "          const docLink = document.createElement('div');\n",
       "          docLink.innerHTML = docLinkHtml;\n",
       "          element.appendChild(docLink);\n",
       "        }\n",
       "      </script>\n",
       "    </div>\n",
       "  </div>\n",
       "  "
      ],
      "text/plain": [
       "             ad_id       type   area bedrooms  bathrooms   level furnished  \\\n",
       "0  Ad id 194203902  apartment 155.00        2          3  ground        no   \n",
       "1  Ad id 192722330  apartment 160.00        2          1       2        no   \n",
       "2  Ad id 194289766  apartment  70.00        2          1  ground        no   \n",
       "3  Ad id 194361900  apartment 220.00        3          3     10+        no   \n",
       "4  Ad id 194365829  apartment 140.00        3          2       4        no   \n",
       "5  Ad id 194285869  apartment  80.00        3          1       3        no   \n",
       "6  Ad id 194110023     studio  88.00        1          1  ground       yes   \n",
       "7  Ad id 194164107  apartment 207.00        3          2       6        no   \n",
       "8  Ad id 194234446  apartment 200.00        2          2       3       yes   \n",
       "9  Ad id 194314892  apartment 133.00        2          2       2       NaN   \n",
       "\n",
       "  rent        city                  region      price  \n",
       "0   no       cairo  new cairo - el tagamoa 2569700.00  \n",
       "1  yes  alexandria               kafr abdo    7000.00  \n",
       "2   no       cairo               nasr city   50000.00  \n",
       "3   no    dakahlia                 mansura 2475000.00  \n",
       "4   no       cairo                madinaty 3000000.00  \n",
       "5   no    qalyubia       shubra al-khaimah  360000.00  \n",
       "6   no       cairo  new cairo - el tagamoa 2200000.00  \n",
       "7   no  alexandria             san stefano 2900000.00  \n",
       "8  yes       cairo  new cairo - el tagamoa   18000.00  \n",
       "9   no       cairo  new cairo - el tagamoa 3500000.00  "
      ]
     },
     "execution_count": 5,
     "metadata": {},
     "output_type": "execute_result"
    }
   ],
   "source": [
    "train.head(10)\n"
   ]
  },
  {
   "cell_type": "code",
   "execution_count": null,
   "metadata": {
    "colab": {
     "base_uri": "https://localhost:8080/"
    },
    "id": "WToycdTStNVL",
    "outputId": "abbd0229-8018-4246-cc52-b9bde19ea270"
   },
   "outputs": [
    {
     "name": "stdout",
     "output_type": "stream",
     "text": [
      "<class 'pandas.core.frame.DataFrame'>\n",
      "RangeIndex: 14162 entries, 0 to 14161\n",
      "Data columns (total 11 columns):\n",
      " #   Column     Non-Null Count  Dtype  \n",
      "---  ------     --------------  -----  \n",
      " 0   ad_id      14162 non-null  object \n",
      " 1   type       14162 non-null  object \n",
      " 2   area       14162 non-null  float64\n",
      " 3   bedrooms   14162 non-null  object \n",
      " 4   bathrooms  14162 non-null  int64  \n",
      " 5   level      14162 non-null  object \n",
      " 6   furnished  11136 non-null  object \n",
      " 7   rent       14162 non-null  object \n",
      " 8   city       14162 non-null  object \n",
      " 9   region     14162 non-null  object \n",
      " 10  price      14162 non-null  float64\n",
      "dtypes: float64(2), int64(1), object(8)\n",
      "memory usage: 1.2+ MB\n"
     ]
    }
   ],
   "source": [
    "train.info()"
   ]
  },
  {
   "cell_type": "markdown",
   "metadata": {
    "id": "s6ldkF-QKy0V"
   },
   "source": [
    "# Discover and Visualize the Data to Gain Insights"
   ]
  },
  {
   "cell_type": "markdown",
   "metadata": {
    "id": "QGR31vYQ4TOn"
   },
   "source": [
    "<h1><b>Q2: Use any visualization library you like to visualize some of the datasets attributes. Hint: You can use pandas dataframes built-in hist and box plot methods or pandas scatter_matrix. Other solutions are also welcome.</b></h1>"
   ]
  },
  {
   "cell_type": "code",
   "execution_count": null,
   "metadata": {
    "colab": {
     "base_uri": "https://localhost:8080/",
     "height": 381
    },
    "id": "EHsqCFm8PgS_",
    "outputId": "552fd89b-73e2-4b47-e167-24bcf0f6bbf1"
   },
   "outputs": [
    {
     "data": {
      "text/plain": [
       "array([[<matplotlib.axes._subplots.AxesSubplot object at 0x7f28374b3a00>,\n",
       "        <matplotlib.axes._subplots.AxesSubplot object at 0x7f2837488e80>],\n",
       "       [<matplotlib.axes._subplots.AxesSubplot object at 0x7f28375a7b50>,\n",
       "        <matplotlib.axes._subplots.AxesSubplot object at 0x7f28373eebe0>]],\n",
       "      dtype=object)"
      ]
     },
     "execution_count": 7,
     "metadata": {},
     "output_type": "execute_result"
    },
    {
     "data": {
      "image/png": "[encoded data removed]",
      "text/plain": [
       "<Figure size 432x288 with 4 Axes>"
      ]
     },
     "metadata": {
      "needs_background": "light"
     },
     "output_type": "display_data"
    }
   ],
   "source": [
    "train.hist()"
   ]
  },
  {
   "cell_type": "markdown",
   "metadata": {
    "id": "Fq6_q9opKy0X"
   },
   "source": [
    "## Looking for Correlations"
   ]
  },
  {
   "cell_type": "markdown",
   "metadata": {
    "id": "BUFV6Hqv4tYk"
   },
   "source": [
    "<h1><b>Q3: Look for correlations using pandas df.corr function, this will give you an output correlation matrix. Select the price column from that correlation matrix and sort its values descendingly  using a built-in pandas function.</b></h1>"
   ]
  },
  {
   "cell_type": "code",
   "execution_count": null,
   "metadata": {
    "id": "q_g8CRM7PhfP"
   },
   "outputs": [],
   "source": [
    "corr = train.corr()"
   ]
  },
  {
   "cell_type": "code",
   "execution_count": null,
   "metadata": {
    "colab": {
     "base_uri": "https://localhost:8080/"
    },
    "id": "k6vHmB5ywJ1X",
    "outputId": "2d797566-f21b-4533-f161-f0a087edea66"
   },
   "outputs": [
    {
     "data": {
      "text/plain": [
       "price       1.00\n",
       "bathrooms   0.36\n",
       "area        0.27\n",
       "Name: price, dtype: float64"
      ]
     },
     "execution_count": 9,
     "metadata": {},
     "output_type": "execute_result"
    }
   ],
   "source": [
    "corr['price'].sort_values(ascending=False)\n"
   ]
  },
  {
   "cell_type": "markdown",
   "metadata": {
    "id": "9P0S9d4GKy0Y"
   },
   "source": [
    "# Prepare the Data for Machine Learning Algorithms"
   ]
  },
  {
   "cell_type": "markdown",
   "metadata": {
    "id": "YyAYK_nTKy0Z"
   },
   "source": [
    "## Data Cleaning"
   ]
  },
  {
   "cell_type": "markdown",
   "metadata": {
    "id": "PBZViPD9GaPE"
   },
   "source": [
    "<h1><b>Q4: Drop the ad_id column from the training set.</b></h1>"
   ]
  },
  {
   "cell_type": "code",
   "execution_count": null,
   "metadata": {
    "id": "jeRMdfuzGd4y"
   },
   "outputs": [],
   "source": [
    "train.drop(['ad_id'], axis=\"columns\", inplace=True)"
   ]
  },
  {
   "cell_type": "markdown",
   "metadata": {
    "id": "mYRQw-5Y6q3_"
   },
   "source": [
    "<h1><b>Q5: Check how many NaN values are there in the dataset. Demonstrate the three ways we've covered to deal with NaN values</b></h1>"
   ]
  },
  {
   "cell_type": "code",
   "execution_count": null,
   "metadata": {
    "colab": {
     "base_uri": "https://localhost:8080/"
    },
    "id": "0ccnkQtKPkvl",
    "outputId": "cfc2b4dd-20d3-4606-c5d8-3f0f6c3691d1"
   },
   "outputs": [
    {
     "data": {
      "text/plain": [
       "type            0\n",
       "area            0\n",
       "bedrooms        0\n",
       "bathrooms       0\n",
       "level           0\n",
       "furnished    3026\n",
       "rent            0\n",
       "city            0\n",
       "region          0\n",
       "price           0\n",
       "dtype: int64"
      ]
     },
     "execution_count": 11,
     "metadata": {},
     "output_type": "execute_result"
    }
   ],
   "source": [
    "train.isnull().sum()\n",
    "\n"
   ]
  },
  {
   "cell_type": "markdown",
   "metadata": {
    "id": "Hni_KYI37OD_"
   },
   "source": [
    "<h1><b>Q5.1: Demonstrate how to drop the furnished column entirely (don't alter the train dataframe)</b></h1>"
   ]
  },
  {
   "cell_type": "code",
   "execution_count": null,
   "metadata": {
    "colab": {
     "base_uri": "https://localhost:8080/",
     "height": 424
    },
    "id": "kySYM36ZPmrh",
    "outputId": "ac4df9d4-4ec2-4a94-c558-bf1bb04643d8"
   },
   "outputs": [
    {
     "data": {
      "text/html": [
       "\n",
       "  <div id=\"df-335744d3-6057-470a-9fc0-ed0d70340fb5\">\n",
       "    <div class=\"colab-df-container\">\n",
       "      <div>\n",
       "<style scoped>\n",
       "    .dataframe tbody tr th:only-of-type {\n",
       "        vertical-align: middle;\n",
       "    }\n",
       "\n",
       "    .dataframe tbody tr th {\n",
       "        vertical-align: top;\n",
       "    }\n",
       "\n",
       "    .dataframe thead th {\n",
       "        text-align: right;\n",
       "    }\n",
       "</style>\n",
       "<table border=\"1\" class=\"dataframe\">\n",
       "  <thead>\n",
       "    <tr style=\"text-align: right;\">\n",
       "      <th></th>\n",
       "      <th>type</th>\n",
       "      <th>area</th>\n",
       "      <th>bedrooms</th>\n",
       "      <th>bathrooms</th>\n",
       "      <th>level</th>\n",
       "      <th>rent</th>\n",
       "      <th>city</th>\n",
       "      <th>region</th>\n",
       "      <th>price</th>\n",
       "    </tr>\n",
       "  </thead>\n",
       "  <tbody>\n",
       "    <tr>\n",
       "      <th>0</th>\n",
       "      <td>apartment</td>\n",
       "      <td>155.00</td>\n",
       "      <td>2</td>\n",
       "      <td>3</td>\n",
       "      <td>ground</td>\n",
       "      <td>no</td>\n",
       "      <td>cairo</td>\n",
       "      <td>new cairo - el tagamoa</td>\n",
       "      <td>2569700.00</td>\n",
       "    </tr>\n",
       "    <tr>\n",
       "      <th>1</th>\n",
       "      <td>apartment</td>\n",
       "      <td>160.00</td>\n",
       "      <td>2</td>\n",
       "      <td>1</td>\n",
       "      <td>2</td>\n",
       "      <td>yes</td>\n",
       "      <td>alexandria</td>\n",
       "      <td>kafr abdo</td>\n",
       "      <td>7000.00</td>\n",
       "    </tr>\n",
       "    <tr>\n",
       "      <th>2</th>\n",
       "      <td>apartment</td>\n",
       "      <td>70.00</td>\n",
       "      <td>2</td>\n",
       "      <td>1</td>\n",
       "      <td>ground</td>\n",
       "      <td>no</td>\n",
       "      <td>cairo</td>\n",
       "      <td>nasr city</td>\n",
       "      <td>50000.00</td>\n",
       "    </tr>\n",
       "    <tr>\n",
       "      <th>3</th>\n",
       "      <td>apartment</td>\n",
       "      <td>220.00</td>\n",
       "      <td>3</td>\n",
       "      <td>3</td>\n",
       "      <td>10+</td>\n",
       "      <td>no</td>\n",
       "      <td>dakahlia</td>\n",
       "      <td>mansura</td>\n",
       "      <td>2475000.00</td>\n",
       "    </tr>\n",
       "    <tr>\n",
       "      <th>4</th>\n",
       "      <td>apartment</td>\n",
       "      <td>140.00</td>\n",
       "      <td>3</td>\n",
       "      <td>2</td>\n",
       "      <td>4</td>\n",
       "      <td>no</td>\n",
       "      <td>cairo</td>\n",
       "      <td>madinaty</td>\n",
       "      <td>3000000.00</td>\n",
       "    </tr>\n",
       "    <tr>\n",
       "      <th>...</th>\n",
       "      <td>...</td>\n",
       "      <td>...</td>\n",
       "      <td>...</td>\n",
       "      <td>...</td>\n",
       "      <td>...</td>\n",
       "      <td>...</td>\n",
       "      <td>...</td>\n",
       "      <td>...</td>\n",
       "      <td>...</td>\n",
       "    </tr>\n",
       "    <tr>\n",
       "      <th>14157</th>\n",
       "      <td>apartment</td>\n",
       "      <td>127.00</td>\n",
       "      <td>2</td>\n",
       "      <td>2</td>\n",
       "      <td>1</td>\n",
       "      <td>no</td>\n",
       "      <td>cairo</td>\n",
       "      <td>new cairo - el tagamoa</td>\n",
       "      <td>4400000.00</td>\n",
       "    </tr>\n",
       "    <tr>\n",
       "      <th>14158</th>\n",
       "      <td>duplex</td>\n",
       "      <td>295.00</td>\n",
       "      <td>4</td>\n",
       "      <td>3</td>\n",
       "      <td>5</td>\n",
       "      <td>no</td>\n",
       "      <td>cairo</td>\n",
       "      <td>new capital city</td>\n",
       "      <td>3705000.00</td>\n",
       "    </tr>\n",
       "    <tr>\n",
       "      <th>14159</th>\n",
       "      <td>apartment</td>\n",
       "      <td>130.00</td>\n",
       "      <td>3</td>\n",
       "      <td>2</td>\n",
       "      <td>2</td>\n",
       "      <td>no</td>\n",
       "      <td>cairo</td>\n",
       "      <td>new cairo - el tagamoa</td>\n",
       "      <td>925000.00</td>\n",
       "    </tr>\n",
       "    <tr>\n",
       "      <th>14160</th>\n",
       "      <td>apartment</td>\n",
       "      <td>155.00</td>\n",
       "      <td>3</td>\n",
       "      <td>2</td>\n",
       "      <td>5</td>\n",
       "      <td>no</td>\n",
       "      <td>cairo</td>\n",
       "      <td>nasr city</td>\n",
       "      <td>1450000.00</td>\n",
       "    </tr>\n",
       "    <tr>\n",
       "      <th>14161</th>\n",
       "      <td>apartment</td>\n",
       "      <td>195.00</td>\n",
       "      <td>3</td>\n",
       "      <td>3</td>\n",
       "      <td>1</td>\n",
       "      <td>no</td>\n",
       "      <td>cairo</td>\n",
       "      <td>new cairo - el tagamoa</td>\n",
       "      <td>1100000.00</td>\n",
       "    </tr>\n",
       "  </tbody>\n",
       "</table>\n",
       "<p>14162 rows × 9 columns</p>\n",
       "</div>\n",
       "      <button class=\"colab-df-convert\" onclick=\"convertToInteractive('df-335744d3-6057-470a-9fc0-ed0d70340fb5')\"\n",
       "              title=\"Convert this dataframe to an interactive table.\"\n",
       "              style=\"display:none;\">\n",
       "        \n",
       "  <svg xmlns=\"http://www.w3.org/2000/svg\" height=\"24px\"viewBox=\"0 0 24 24\"\n",
       "       width=\"24px\">\n",
       "    <path d=\"M0 0h24v24H0V0z\" fill=\"none\"/>\n",
       "    <path d=\"M18.56 5.44l.94 2.06.94-2.06 2.06-.94-2.06-.94-.94-2.06-.94 2.06-2.06.94zm-11 1L8.5 8.5l.94-2.06 2.06-.94-2.06-.94L8.5 2.5l-.94 2.06-2.06.94zm10 10l.94 2.06.94-2.06 2.06-.94-2.06-.94-.94-2.06-.94 2.06-2.06.94z\"/><path d=\"M17.41 7.96l-1.37-1.37c-.4-.4-.92-.59-1.43-.59-.52 0-1.04.2-1.43.59L10.3 9.45l-7.72 7.72c-.78.78-.78 2.05 0 2.83L4 21.41c.39.39.9.59 1.41.59.51 0 1.02-.2 1.41-.59l7.78-7.78 2.81-2.81c.8-.78.8-2.07 0-2.86zM5.41 20L4 18.59l7.72-7.72 1.47 1.35L5.41 20z\"/>\n",
       "  </svg>\n",
       "      </button>\n",
       "      \n",
       "  <style>\n",
       "    .colab-df-container {\n",
       "      display:flex;\n",
       "      flex-wrap:wrap;\n",
       "      gap: 12px;\n",
       "    }\n",
       "\n",
       "    .colab-df-convert {\n",
       "      background-color: #E8F0FE;\n",
       "      border: none;\n",
       "      border-radius: 50%;\n",
       "      cursor: pointer;\n",
       "      display: none;\n",
       "      fill: #1967D2;\n",
       "      height: 32px;\n",
       "      padding: 0 0 0 0;\n",
       "      width: 32px;\n",
       "    }\n",
       "\n",
       "    .colab-df-convert:hover {\n",
       "      background-color: #E2EBFA;\n",
       "      box-shadow: 0px 1px 2px rgba(60, 64, 67, 0.3), 0px 1px 3px 1px rgba(60, 64, 67, 0.15);\n",
       "      fill: #174EA6;\n",
       "    }\n",
       "\n",
       "    [theme=dark] .colab-df-convert {\n",
       "      background-color: #3B4455;\n",
       "      fill: #D2E3FC;\n",
       "    }\n",
       "\n",
       "    [theme=dark] .colab-df-convert:hover {\n",
       "      background-color: #434B5C;\n",
       "      box-shadow: 0px 1px 3px 1px rgba(0, 0, 0, 0.15);\n",
       "      filter: drop-shadow(0px 1px 2px rgba(0, 0, 0, 0.3));\n",
       "      fill: #FFFFFF;\n",
       "    }\n",
       "  </style>\n",
       "\n",
       "      <script>\n",
       "        const buttonEl =\n",
       "          document.querySelector('#df-335744d3-6057-470a-9fc0-ed0d70340fb5 button.colab-df-convert');\n",
       "        buttonEl.style.display =\n",
       "          google.colab.kernel.accessAllowed ? 'block' : 'none';\n",
       "\n",
       "        async function convertToInteractive(key) {\n",
       "          const element = document.querySelector('#df-335744d3-6057-470a-9fc0-ed0d70340fb5');\n",
       "          const dataTable =\n",
       "            await google.colab.kernel.invokeFunction('convertToInteractive',\n",
       "                                                     [key], {});\n",
       "          if (!dataTable) return;\n",
       "\n",
       "          const docLinkHtml = 'Like what you see? Visit the ' +\n",
       "            '<a target=\"_blank\" href=https://colab.research.google.com/notebooks/data_table.ipynb>data table notebook</a>'\n",
       "            + ' to learn more about interactive tables.';\n",
       "          element.innerHTML = '';\n",
       "          dataTable['output_type'] = 'display_data';\n",
       "          await google.colab.output.renderOutput(dataTable, element);\n",
       "          const docLink = document.createElement('div');\n",
       "          docLink.innerHTML = docLinkHtml;\n",
       "          element.appendChild(docLink);\n",
       "        }\n",
       "      </script>\n",
       "    </div>\n",
       "  </div>\n",
       "  "
      ],
      "text/plain": [
       "            type   area bedrooms  bathrooms   level rent        city  \\\n",
       "0      apartment 155.00        2          3  ground   no       cairo   \n",
       "1      apartment 160.00        2          1       2  yes  alexandria   \n",
       "2      apartment  70.00        2          1  ground   no       cairo   \n",
       "3      apartment 220.00        3          3     10+   no    dakahlia   \n",
       "4      apartment 140.00        3          2       4   no       cairo   \n",
       "...          ...    ...      ...        ...     ...  ...         ...   \n",
       "14157  apartment 127.00        2          2       1   no       cairo   \n",
       "14158     duplex 295.00        4          3       5   no       cairo   \n",
       "14159  apartment 130.00        3          2       2   no       cairo   \n",
       "14160  apartment 155.00        3          2       5   no       cairo   \n",
       "14161  apartment 195.00        3          3       1   no       cairo   \n",
       "\n",
       "                       region      price  \n",
       "0      new cairo - el tagamoa 2569700.00  \n",
       "1                   kafr abdo    7000.00  \n",
       "2                   nasr city   50000.00  \n",
       "3                     mansura 2475000.00  \n",
       "4                    madinaty 3000000.00  \n",
       "...                       ...        ...  \n",
       "14157  new cairo - el tagamoa 4400000.00  \n",
       "14158        new capital city 3705000.00  \n",
       "14159  new cairo - el tagamoa  925000.00  \n",
       "14160               nasr city 1450000.00  \n",
       "14161  new cairo - el tagamoa 1100000.00  \n",
       "\n",
       "[14162 rows x 9 columns]"
      ]
     },
     "execution_count": 12,
     "metadata": {},
     "output_type": "execute_result"
    }
   ],
   "source": [
    "train.drop(['furnished'], axis=\"columns\", inplace=False)\n",
    "\n"
   ]
  },
  {
   "cell_type": "markdown",
   "metadata": {
    "id": "xtsodn6C7X6C"
   },
   "source": [
    "<h1><b>Q5.2: Demonstrate how to drop the rows which have a furnished value of NaN (don't alter the train dataframe)</b></h1>"
   ]
  },
  {
   "cell_type": "code",
   "execution_count": null,
   "metadata": {
    "colab": {
     "base_uri": "https://localhost:8080/",
     "height": 424
    },
    "id": "sI-HzCBLPqHZ",
    "outputId": "c2aa61e5-f695-4d48-92f8-7ecfb1591e31"
   },
   "outputs": [
    {
     "data": {
      "text/html": [
       "\n",
       "  <div id=\"df-fc5365aa-6ff1-4672-9806-dabce6f26ed2\">\n",
       "    <div class=\"colab-df-container\">\n",
       "      <div>\n",
       "<style scoped>\n",
       "    .dataframe tbody tr th:only-of-type {\n",
       "        vertical-align: middle;\n",
       "    }\n",
       "\n",
       "    .dataframe tbody tr th {\n",
       "        vertical-align: top;\n",
       "    }\n",
       "\n",
       "    .dataframe thead th {\n",
       "        text-align: right;\n",
       "    }\n",
       "</style>\n",
       "<table border=\"1\" class=\"dataframe\">\n",
       "  <thead>\n",
       "    <tr style=\"text-align: right;\">\n",
       "      <th></th>\n",
       "      <th>type</th>\n",
       "      <th>area</th>\n",
       "      <th>bedrooms</th>\n",
       "      <th>bathrooms</th>\n",
       "      <th>level</th>\n",
       "      <th>furnished</th>\n",
       "      <th>rent</th>\n",
       "      <th>city</th>\n",
       "      <th>region</th>\n",
       "      <th>price</th>\n",
       "    </tr>\n",
       "  </thead>\n",
       "  <tbody>\n",
       "    <tr>\n",
       "      <th>0</th>\n",
       "      <td>apartment</td>\n",
       "      <td>155.00</td>\n",
       "      <td>2</td>\n",
       "      <td>3</td>\n",
       "      <td>ground</td>\n",
       "      <td>no</td>\n",
       "      <td>no</td>\n",
       "      <td>cairo</td>\n",
       "      <td>new cairo - el tagamoa</td>\n",
       "      <td>2569700.00</td>\n",
       "    </tr>\n",
       "    <tr>\n",
       "      <th>1</th>\n",
       "      <td>apartment</td>\n",
       "      <td>160.00</td>\n",
       "      <td>2</td>\n",
       "      <td>1</td>\n",
       "      <td>2</td>\n",
       "      <td>no</td>\n",
       "      <td>yes</td>\n",
       "      <td>alexandria</td>\n",
       "      <td>kafr abdo</td>\n",
       "      <td>7000.00</td>\n",
       "    </tr>\n",
       "    <tr>\n",
       "      <th>2</th>\n",
       "      <td>apartment</td>\n",
       "      <td>70.00</td>\n",
       "      <td>2</td>\n",
       "      <td>1</td>\n",
       "      <td>ground</td>\n",
       "      <td>no</td>\n",
       "      <td>no</td>\n",
       "      <td>cairo</td>\n",
       "      <td>nasr city</td>\n",
       "      <td>50000.00</td>\n",
       "    </tr>\n",
       "    <tr>\n",
       "      <th>3</th>\n",
       "      <td>apartment</td>\n",
       "      <td>220.00</td>\n",
       "      <td>3</td>\n",
       "      <td>3</td>\n",
       "      <td>10+</td>\n",
       "      <td>no</td>\n",
       "      <td>no</td>\n",
       "      <td>dakahlia</td>\n",
       "      <td>mansura</td>\n",
       "      <td>2475000.00</td>\n",
       "    </tr>\n",
       "    <tr>\n",
       "      <th>4</th>\n",
       "      <td>apartment</td>\n",
       "      <td>140.00</td>\n",
       "      <td>3</td>\n",
       "      <td>2</td>\n",
       "      <td>4</td>\n",
       "      <td>no</td>\n",
       "      <td>no</td>\n",
       "      <td>cairo</td>\n",
       "      <td>madinaty</td>\n",
       "      <td>3000000.00</td>\n",
       "    </tr>\n",
       "    <tr>\n",
       "      <th>...</th>\n",
       "      <td>...</td>\n",
       "      <td>...</td>\n",
       "      <td>...</td>\n",
       "      <td>...</td>\n",
       "      <td>...</td>\n",
       "      <td>...</td>\n",
       "      <td>...</td>\n",
       "      <td>...</td>\n",
       "      <td>...</td>\n",
       "      <td>...</td>\n",
       "    </tr>\n",
       "    <tr>\n",
       "      <th>14156</th>\n",
       "      <td>apartment</td>\n",
       "      <td>240.00</td>\n",
       "      <td>3</td>\n",
       "      <td>3</td>\n",
       "      <td>ground</td>\n",
       "      <td>yes</td>\n",
       "      <td>yes</td>\n",
       "      <td>giza</td>\n",
       "      <td>sheikh zayed</td>\n",
       "      <td>12000.00</td>\n",
       "    </tr>\n",
       "    <tr>\n",
       "      <th>14158</th>\n",
       "      <td>duplex</td>\n",
       "      <td>295.00</td>\n",
       "      <td>4</td>\n",
       "      <td>3</td>\n",
       "      <td>5</td>\n",
       "      <td>no</td>\n",
       "      <td>no</td>\n",
       "      <td>cairo</td>\n",
       "      <td>new capital city</td>\n",
       "      <td>3705000.00</td>\n",
       "    </tr>\n",
       "    <tr>\n",
       "      <th>14159</th>\n",
       "      <td>apartment</td>\n",
       "      <td>130.00</td>\n",
       "      <td>3</td>\n",
       "      <td>2</td>\n",
       "      <td>2</td>\n",
       "      <td>no</td>\n",
       "      <td>no</td>\n",
       "      <td>cairo</td>\n",
       "      <td>new cairo - el tagamoa</td>\n",
       "      <td>925000.00</td>\n",
       "    </tr>\n",
       "    <tr>\n",
       "      <th>14160</th>\n",
       "      <td>apartment</td>\n",
       "      <td>155.00</td>\n",
       "      <td>3</td>\n",
       "      <td>2</td>\n",
       "      <td>5</td>\n",
       "      <td>no</td>\n",
       "      <td>no</td>\n",
       "      <td>cairo</td>\n",
       "      <td>nasr city</td>\n",
       "      <td>1450000.00</td>\n",
       "    </tr>\n",
       "    <tr>\n",
       "      <th>14161</th>\n",
       "      <td>apartment</td>\n",
       "      <td>195.00</td>\n",
       "      <td>3</td>\n",
       "      <td>3</td>\n",
       "      <td>1</td>\n",
       "      <td>no</td>\n",
       "      <td>no</td>\n",
       "      <td>cairo</td>\n",
       "      <td>new cairo - el tagamoa</td>\n",
       "      <td>1100000.00</td>\n",
       "    </tr>\n",
       "  </tbody>\n",
       "</table>\n",
       "<p>11136 rows × 10 columns</p>\n",
       "</div>\n",
       "      <button class=\"colab-df-convert\" onclick=\"convertToInteractive('df-fc5365aa-6ff1-4672-9806-dabce6f26ed2')\"\n",
       "              title=\"Convert this dataframe to an interactive table.\"\n",
       "              style=\"display:none;\">\n",
       "        \n",
       "  <svg xmlns=\"http://www.w3.org/2000/svg\" height=\"24px\"viewBox=\"0 0 24 24\"\n",
       "       width=\"24px\">\n",
       "    <path d=\"M0 0h24v24H0V0z\" fill=\"none\"/>\n",
       "    <path d=\"M18.56 5.44l.94 2.06.94-2.06 2.06-.94-2.06-.94-.94-2.06-.94 2.06-2.06.94zm-11 1L8.5 8.5l.94-2.06 2.06-.94-2.06-.94L8.5 2.5l-.94 2.06-2.06.94zm10 10l.94 2.06.94-2.06 2.06-.94-2.06-.94-.94-2.06-.94 2.06-2.06.94z\"/><path d=\"M17.41 7.96l-1.37-1.37c-.4-.4-.92-.59-1.43-.59-.52 0-1.04.2-1.43.59L10.3 9.45l-7.72 7.72c-.78.78-.78 2.05 0 2.83L4 21.41c.39.39.9.59 1.41.59.51 0 1.02-.2 1.41-.59l7.78-7.78 2.81-2.81c.8-.78.8-2.07 0-2.86zM5.41 20L4 18.59l7.72-7.72 1.47 1.35L5.41 20z\"/>\n",
       "  </svg>\n",
       "      </button>\n",
       "      \n",
       "  <style>\n",
       "    .colab-df-container {\n",
       "      display:flex;\n",
       "      flex-wrap:wrap;\n",
       "      gap: 12px;\n",
       "    }\n",
       "\n",
       "    .colab-df-convert {\n",
       "      background-color: #E8F0FE;\n",
       "      border: none;\n",
       "      border-radius: 50%;\n",
       "      cursor: pointer;\n",
       "      display: none;\n",
       "      fill: #1967D2;\n",
       "      height: 32px;\n",
       "      padding: 0 0 0 0;\n",
       "      width: 32px;\n",
       "    }\n",
       "\n",
       "    .colab-df-convert:hover {\n",
       "      background-color: #E2EBFA;\n",
       "      box-shadow: 0px 1px 2px rgba(60, 64, 67, 0.3), 0px 1px 3px 1px rgba(60, 64, 67, 0.15);\n",
       "      fill: #174EA6;\n",
       "    }\n",
       "\n",
       "    [theme=dark] .colab-df-convert {\n",
       "      background-color: #3B4455;\n",
       "      fill: #D2E3FC;\n",
       "    }\n",
       "\n",
       "    [theme=dark] .colab-df-convert:hover {\n",
       "      background-color: #434B5C;\n",
       "      box-shadow: 0px 1px 3px 1px rgba(0, 0, 0, 0.15);\n",
       "      filter: drop-shadow(0px 1px 2px rgba(0, 0, 0, 0.3));\n",
       "      fill: #FFFFFF;\n",
       "    }\n",
       "  </style>\n",
       "\n",
       "      <script>\n",
       "        const buttonEl =\n",
       "          document.querySelector('#df-fc5365aa-6ff1-4672-9806-dabce6f26ed2 button.colab-df-convert');\n",
       "        buttonEl.style.display =\n",
       "          google.colab.kernel.accessAllowed ? 'block' : 'none';\n",
       "\n",
       "        async function convertToInteractive(key) {\n",
       "          const element = document.querySelector('#df-fc5365aa-6ff1-4672-9806-dabce6f26ed2');\n",
       "          const dataTable =\n",
       "            await google.colab.kernel.invokeFunction('convertToInteractive',\n",
       "                                                     [key], {});\n",
       "          if (!dataTable) return;\n",
       "\n",
       "          const docLinkHtml = 'Like what you see? Visit the ' +\n",
       "            '<a target=\"_blank\" href=https://colab.research.google.com/notebooks/data_table.ipynb>data table notebook</a>'\n",
       "            + ' to learn more about interactive tables.';\n",
       "          element.innerHTML = '';\n",
       "          dataTable['output_type'] = 'display_data';\n",
       "          await google.colab.output.renderOutput(dataTable, element);\n",
       "          const docLink = document.createElement('div');\n",
       "          docLink.innerHTML = docLinkHtml;\n",
       "          element.appendChild(docLink);\n",
       "        }\n",
       "      </script>\n",
       "    </div>\n",
       "  </div>\n",
       "  "
      ],
      "text/plain": [
       "            type   area bedrooms  bathrooms   level furnished rent  \\\n",
       "0      apartment 155.00        2          3  ground        no   no   \n",
       "1      apartment 160.00        2          1       2        no  yes   \n",
       "2      apartment  70.00        2          1  ground        no   no   \n",
       "3      apartment 220.00        3          3     10+        no   no   \n",
       "4      apartment 140.00        3          2       4        no   no   \n",
       "...          ...    ...      ...        ...     ...       ...  ...   \n",
       "14156  apartment 240.00        3          3  ground       yes  yes   \n",
       "14158     duplex 295.00        4          3       5        no   no   \n",
       "14159  apartment 130.00        3          2       2        no   no   \n",
       "14160  apartment 155.00        3          2       5        no   no   \n",
       "14161  apartment 195.00        3          3       1        no   no   \n",
       "\n",
       "             city                  region      price  \n",
       "0           cairo  new cairo - el tagamoa 2569700.00  \n",
       "1      alexandria               kafr abdo    7000.00  \n",
       "2           cairo               nasr city   50000.00  \n",
       "3        dakahlia                 mansura 2475000.00  \n",
       "4           cairo                madinaty 3000000.00  \n",
       "...           ...                     ...        ...  \n",
       "14156        giza            sheikh zayed   12000.00  \n",
       "14158       cairo        new capital city 3705000.00  \n",
       "14159       cairo  new cairo - el tagamoa  925000.00  \n",
       "14160       cairo               nasr city 1450000.00  \n",
       "14161       cairo  new cairo - el tagamoa 1100000.00  \n",
       "\n",
       "[11136 rows x 10 columns]"
      ]
     },
     "execution_count": 13,
     "metadata": {},
     "output_type": "execute_result"
    }
   ],
   "source": [
    "train.dropna(subset=[\"furnished\"],inplace=False)\n"
   ]
  },
  {
   "cell_type": "markdown",
   "metadata": {
    "id": "_BSabd047em5"
   },
   "source": [
    "<h1><b>Q5.3: Demonstrate how to count the most frequent value in the furnished column and how to fill na values with this value using pandas fillna function (don't alter the train dataframe)</b></h1>"
   ]
  },
  {
   "cell_type": "code",
   "execution_count": null,
   "metadata": {
    "colab": {
     "base_uri": "https://localhost:8080/",
     "height": 424
    },
    "id": "fXsC8JcIPrfv",
    "outputId": "6d910f58-adf1-4e55-a465-08b60fabe780"
   },
   "outputs": [
    {
     "data": {
      "text/html": [
       "\n",
       "  <div id=\"df-76c84291-8c88-41f8-b872-5d876ea62f80\">\n",
       "    <div class=\"colab-df-container\">\n",
       "      <div>\n",
       "<style scoped>\n",
       "    .dataframe tbody tr th:only-of-type {\n",
       "        vertical-align: middle;\n",
       "    }\n",
       "\n",
       "    .dataframe tbody tr th {\n",
       "        vertical-align: top;\n",
       "    }\n",
       "\n",
       "    .dataframe thead th {\n",
       "        text-align: right;\n",
       "    }\n",
       "</style>\n",
       "<table border=\"1\" class=\"dataframe\">\n",
       "  <thead>\n",
       "    <tr style=\"text-align: right;\">\n",
       "      <th></th>\n",
       "      <th>type</th>\n",
       "      <th>area</th>\n",
       "      <th>bedrooms</th>\n",
       "      <th>bathrooms</th>\n",
       "      <th>level</th>\n",
       "      <th>furnished</th>\n",
       "      <th>rent</th>\n",
       "      <th>city</th>\n",
       "      <th>region</th>\n",
       "      <th>price</th>\n",
       "    </tr>\n",
       "  </thead>\n",
       "  <tbody>\n",
       "    <tr>\n",
       "      <th>0</th>\n",
       "      <td>apartment</td>\n",
       "      <td>155.00</td>\n",
       "      <td>2</td>\n",
       "      <td>3</td>\n",
       "      <td>ground</td>\n",
       "      <td>no</td>\n",
       "      <td>no</td>\n",
       "      <td>cairo</td>\n",
       "      <td>new cairo - el tagamoa</td>\n",
       "      <td>2569700.00</td>\n",
       "    </tr>\n",
       "    <tr>\n",
       "      <th>1</th>\n",
       "      <td>apartment</td>\n",
       "      <td>160.00</td>\n",
       "      <td>2</td>\n",
       "      <td>1</td>\n",
       "      <td>2</td>\n",
       "      <td>no</td>\n",
       "      <td>yes</td>\n",
       "      <td>alexandria</td>\n",
       "      <td>kafr abdo</td>\n",
       "      <td>7000.00</td>\n",
       "    </tr>\n",
       "    <tr>\n",
       "      <th>2</th>\n",
       "      <td>apartment</td>\n",
       "      <td>70.00</td>\n",
       "      <td>2</td>\n",
       "      <td>1</td>\n",
       "      <td>ground</td>\n",
       "      <td>no</td>\n",
       "      <td>no</td>\n",
       "      <td>cairo</td>\n",
       "      <td>nasr city</td>\n",
       "      <td>50000.00</td>\n",
       "    </tr>\n",
       "    <tr>\n",
       "      <th>3</th>\n",
       "      <td>apartment</td>\n",
       "      <td>220.00</td>\n",
       "      <td>3</td>\n",
       "      <td>3</td>\n",
       "      <td>10+</td>\n",
       "      <td>no</td>\n",
       "      <td>no</td>\n",
       "      <td>dakahlia</td>\n",
       "      <td>mansura</td>\n",
       "      <td>2475000.00</td>\n",
       "    </tr>\n",
       "    <tr>\n",
       "      <th>4</th>\n",
       "      <td>apartment</td>\n",
       "      <td>140.00</td>\n",
       "      <td>3</td>\n",
       "      <td>2</td>\n",
       "      <td>4</td>\n",
       "      <td>no</td>\n",
       "      <td>no</td>\n",
       "      <td>cairo</td>\n",
       "      <td>madinaty</td>\n",
       "      <td>3000000.00</td>\n",
       "    </tr>\n",
       "    <tr>\n",
       "      <th>...</th>\n",
       "      <td>...</td>\n",
       "      <td>...</td>\n",
       "      <td>...</td>\n",
       "      <td>...</td>\n",
       "      <td>...</td>\n",
       "      <td>...</td>\n",
       "      <td>...</td>\n",
       "      <td>...</td>\n",
       "      <td>...</td>\n",
       "      <td>...</td>\n",
       "    </tr>\n",
       "    <tr>\n",
       "      <th>14157</th>\n",
       "      <td>apartment</td>\n",
       "      <td>127.00</td>\n",
       "      <td>2</td>\n",
       "      <td>2</td>\n",
       "      <td>1</td>\n",
       "      <td>NaN</td>\n",
       "      <td>no</td>\n",
       "      <td>cairo</td>\n",
       "      <td>new cairo - el tagamoa</td>\n",
       "      <td>4400000.00</td>\n",
       "    </tr>\n",
       "    <tr>\n",
       "      <th>14158</th>\n",
       "      <td>duplex</td>\n",
       "      <td>295.00</td>\n",
       "      <td>4</td>\n",
       "      <td>3</td>\n",
       "      <td>5</td>\n",
       "      <td>no</td>\n",
       "      <td>no</td>\n",
       "      <td>cairo</td>\n",
       "      <td>new capital city</td>\n",
       "      <td>3705000.00</td>\n",
       "    </tr>\n",
       "    <tr>\n",
       "      <th>14159</th>\n",
       "      <td>apartment</td>\n",
       "      <td>130.00</td>\n",
       "      <td>3</td>\n",
       "      <td>2</td>\n",
       "      <td>2</td>\n",
       "      <td>no</td>\n",
       "      <td>no</td>\n",
       "      <td>cairo</td>\n",
       "      <td>new cairo - el tagamoa</td>\n",
       "      <td>925000.00</td>\n",
       "    </tr>\n",
       "    <tr>\n",
       "      <th>14160</th>\n",
       "      <td>apartment</td>\n",
       "      <td>155.00</td>\n",
       "      <td>3</td>\n",
       "      <td>2</td>\n",
       "      <td>5</td>\n",
       "      <td>no</td>\n",
       "      <td>no</td>\n",
       "      <td>cairo</td>\n",
       "      <td>nasr city</td>\n",
       "      <td>1450000.00</td>\n",
       "    </tr>\n",
       "    <tr>\n",
       "      <th>14161</th>\n",
       "      <td>apartment</td>\n",
       "      <td>195.00</td>\n",
       "      <td>3</td>\n",
       "      <td>3</td>\n",
       "      <td>1</td>\n",
       "      <td>no</td>\n",
       "      <td>no</td>\n",
       "      <td>cairo</td>\n",
       "      <td>new cairo - el tagamoa</td>\n",
       "      <td>1100000.00</td>\n",
       "    </tr>\n",
       "  </tbody>\n",
       "</table>\n",
       "<p>14162 rows × 10 columns</p>\n",
       "</div>\n",
       "      <button class=\"colab-df-convert\" onclick=\"convertToInteractive('df-76c84291-8c88-41f8-b872-5d876ea62f80')\"\n",
       "              title=\"Convert this dataframe to an interactive table.\"\n",
       "              style=\"display:none;\">\n",
       "        \n",
       "  <svg xmlns=\"http://www.w3.org/2000/svg\" height=\"24px\"viewBox=\"0 0 24 24\"\n",
       "       width=\"24px\">\n",
       "    <path d=\"M0 0h24v24H0V0z\" fill=\"none\"/>\n",
       "    <path d=\"M18.56 5.44l.94 2.06.94-2.06 2.06-.94-2.06-.94-.94-2.06-.94 2.06-2.06.94zm-11 1L8.5 8.5l.94-2.06 2.06-.94-2.06-.94L8.5 2.5l-.94 2.06-2.06.94zm10 10l.94 2.06.94-2.06 2.06-.94-2.06-.94-.94-2.06-.94 2.06-2.06.94z\"/><path d=\"M17.41 7.96l-1.37-1.37c-.4-.4-.92-.59-1.43-.59-.52 0-1.04.2-1.43.59L10.3 9.45l-7.72 7.72c-.78.78-.78 2.05 0 2.83L4 21.41c.39.39.9.59 1.41.59.51 0 1.02-.2 1.41-.59l7.78-7.78 2.81-2.81c.8-.78.8-2.07 0-2.86zM5.41 20L4 18.59l7.72-7.72 1.47 1.35L5.41 20z\"/>\n",
       "  </svg>\n",
       "      </button>\n",
       "      \n",
       "  <style>\n",
       "    .colab-df-container {\n",
       "      display:flex;\n",
       "      flex-wrap:wrap;\n",
       "      gap: 12px;\n",
       "    }\n",
       "\n",
       "    .colab-df-convert {\n",
       "      background-color: #E8F0FE;\n",
       "      border: none;\n",
       "      border-radius: 50%;\n",
       "      cursor: pointer;\n",
       "      display: none;\n",
       "      fill: #1967D2;\n",
       "      height: 32px;\n",
       "      padding: 0 0 0 0;\n",
       "      width: 32px;\n",
       "    }\n",
       "\n",
       "    .colab-df-convert:hover {\n",
       "      background-color: #E2EBFA;\n",
       "      box-shadow: 0px 1px 2px rgba(60, 64, 67, 0.3), 0px 1px 3px 1px rgba(60, 64, 67, 0.15);\n",
       "      fill: #174EA6;\n",
       "    }\n",
       "\n",
       "    [theme=dark] .colab-df-convert {\n",
       "      background-color: #3B4455;\n",
       "      fill: #D2E3FC;\n",
       "    }\n",
       "\n",
       "    [theme=dark] .colab-df-convert:hover {\n",
       "      background-color: #434B5C;\n",
       "      box-shadow: 0px 1px 3px 1px rgba(0, 0, 0, 0.15);\n",
       "      filter: drop-shadow(0px 1px 2px rgba(0, 0, 0, 0.3));\n",
       "      fill: #FFFFFF;\n",
       "    }\n",
       "  </style>\n",
       "\n",
       "      <script>\n",
       "        const buttonEl =\n",
       "          document.querySelector('#df-76c84291-8c88-41f8-b872-5d876ea62f80 button.colab-df-convert');\n",
       "        buttonEl.style.display =\n",
       "          google.colab.kernel.accessAllowed ? 'block' : 'none';\n",
       "\n",
       "        async function convertToInteractive(key) {\n",
       "          const element = document.querySelector('#df-76c84291-8c88-41f8-b872-5d876ea62f80');\n",
       "          const dataTable =\n",
       "            await google.colab.kernel.invokeFunction('convertToInteractive',\n",
       "                                                     [key], {});\n",
       "          if (!dataTable) return;\n",
       "\n",
       "          const docLinkHtml = 'Like what you see? Visit the ' +\n",
       "            '<a target=\"_blank\" href=https://colab.research.google.com/notebooks/data_table.ipynb>data table notebook</a>'\n",
       "            + ' to learn more about interactive tables.';\n",
       "          element.innerHTML = '';\n",
       "          dataTable['output_type'] = 'display_data';\n",
       "          await google.colab.output.renderOutput(dataTable, element);\n",
       "          const docLink = document.createElement('div');\n",
       "          docLink.innerHTML = docLinkHtml;\n",
       "          element.appendChild(docLink);\n",
       "        }\n",
       "      </script>\n",
       "    </div>\n",
       "  </div>\n",
       "  "
      ],
      "text/plain": [
       "            type   area bedrooms  bathrooms   level furnished rent  \\\n",
       "0      apartment 155.00        2          3  ground        no   no   \n",
       "1      apartment 160.00        2          1       2        no  yes   \n",
       "2      apartment  70.00        2          1  ground        no   no   \n",
       "3      apartment 220.00        3          3     10+        no   no   \n",
       "4      apartment 140.00        3          2       4        no   no   \n",
       "...          ...    ...      ...        ...     ...       ...  ...   \n",
       "14157  apartment 127.00        2          2       1       NaN   no   \n",
       "14158     duplex 295.00        4          3       5        no   no   \n",
       "14159  apartment 130.00        3          2       2        no   no   \n",
       "14160  apartment 155.00        3          2       5        no   no   \n",
       "14161  apartment 195.00        3          3       1        no   no   \n",
       "\n",
       "             city                  region      price  \n",
       "0           cairo  new cairo - el tagamoa 2569700.00  \n",
       "1      alexandria               kafr abdo    7000.00  \n",
       "2           cairo               nasr city   50000.00  \n",
       "3        dakahlia                 mansura 2475000.00  \n",
       "4           cairo                madinaty 3000000.00  \n",
       "...           ...                     ...        ...  \n",
       "14157       cairo  new cairo - el tagamoa 4400000.00  \n",
       "14158       cairo        new capital city 3705000.00  \n",
       "14159       cairo  new cairo - el tagamoa  925000.00  \n",
       "14160       cairo               nasr city 1450000.00  \n",
       "14161       cairo  new cairo - el tagamoa 1100000.00  \n",
       "\n",
       "[14162 rows x 10 columns]"
      ]
     },
     "execution_count": 14,
     "metadata": {},
     "output_type": "execute_result"
    }
   ],
   "source": [
    "TC_mode = train['furnished'].mode() \n",
    "train['furnished']=train['furnished'].fillna(TC_mode)\n",
    "train"
   ]
  },
  {
   "cell_type": "markdown",
   "metadata": {
    "id": "BJLbKYsG9HC1"
   },
   "source": [
    "The next cell is to illustrate how you could solve Q5.3 using sklearn's SimpleImputer. You can use this as a reference for Q7."
   ]
  },
  {
   "cell_type": "code",
   "execution_count": null,
   "metadata": {
    "colab": {
     "base_uri": "https://localhost:8080/"
    },
    "id": "CqLwYvHVKy0a",
    "outputId": "ec0e0dfe-bfbc-4005-b164-a29b24fcacb9"
   },
   "outputs": [
    {
     "data": {
      "text/plain": [
       "array([['no'],\n",
       "       ['no'],\n",
       "       ['no'],\n",
       "       ...,\n",
       "       ['no'],\n",
       "       ['no'],\n",
       "       ['no']], dtype=object)"
      ]
     },
     "execution_count": 15,
     "metadata": {},
     "output_type": "execute_result"
    }
   ],
   "source": [
    "from sklearn.impute import SimpleImputer\n",
    "\n",
    "columns_to_impute = ['furnished']\n",
    "\n",
    "imputer = SimpleImputer(strategy=\"most_frequent\")\n",
    "\n",
    "imputer.fit_transform(train[columns_to_impute])\n"
   ]
  },
  {
   "cell_type": "markdown",
   "metadata": {
    "id": "GFICInABRhDO"
   },
   "source": [
    "# Feature Engineering"
   ]
  },
  {
   "cell_type": "markdown",
   "metadata": {
    "id": "z0dWWSkU5P8j"
   },
   "source": [
    "<h1><b>Q6: You're free to experiment here with adding any features that could help improve the model's performance. Make sure to add them within the feature_engineer function</b></h1>"
   ]
  },
  {
   "cell_type": "code",
   "execution_count": null,
   "metadata": {
    "id": "CVPYlSPoeBO5"
   },
   "outputs": [],
   "source": [
    "\n",
    "def feature_engineer(df):\n",
    "  new_df = df.copy()\n",
    "  new_df['area_to_bathroom_ratio'] = new_df.area / new_df.bathrooms\n",
    "  return new_df\n",
    "\n",
    "train = feature_engineer(train)"
   ]
  },
  {
   "cell_type": "markdown",
   "metadata": {
    "id": "65FeYsKURoqt"
   },
   "source": [
    "# Preprocessing"
   ]
  },
  {
   "cell_type": "markdown",
   "metadata": {
    "id": "lNtuVDsA8SLC"
   },
   "source": [
    "<h1><b>Q6: Demonstrate how to use sklearn's OneHotEncoder on the categorical columns. Use the cat_columns and num_columns lists to quickly specify categorical or numerical attributes.</b></h1>"
   ]
  },
  {
   "cell_type": "code",
   "execution_count": null,
   "metadata": {
    "id": "f-imW-Dr22P9"
   },
   "outputs": [],
   "source": [
    "#Don't forget to add any column names you created during feature engineering here\n",
    "cat_columns = ['type', 'bedrooms', 'bathrooms', 'level', 'furnished', 'rent', 'city', 'region']\n",
    "\n",
    "num_columns = ['area', 'area_to_bathroom_ratio']"
   ]
  },
  {
   "cell_type": "code",
   "execution_count": null,
   "metadata": {
    "id": "ksPMaTz1Ky0g"
   },
   "outputs": [],
   "source": [
    "from sklearn.preprocessing import OneHotEncoder\n",
    "\n",
    "cat_encoder = OneHotEncoder()\n",
    "train_cat_one_hot = cat_encoder.fit_transform(train[cat_columns])\n",
    "\n"
   ]
  },
  {
   "cell_type": "markdown",
   "metadata": {
    "id": "BL5tvG-KTxOg"
   },
   "source": [
    "If the previous cell was correct, you should see the one hot encoded outputs as a DataFrame by runnning the next cell"
   ]
  },
  {
   "cell_type": "code",
   "execution_count": null,
   "metadata": {
    "colab": {
     "base_uri": "https://localhost:8080/",
     "height": 505
    },
    "id": "zWpuXvOnUAYO",
    "outputId": "482981c7-3476-40bb-eeba-19a6bc4eeffb"
   },
   "outputs": [
    {
     "data": {
      "text/html": [
       "\n",
       "  <div id=\"df-ebb8e5a7-d3e7-4de8-b5fe-ae4228f2a2eb\">\n",
       "    <div class=\"colab-df-container\">\n",
       "      <div>\n",
       "<style scoped>\n",
       "    .dataframe tbody tr th:only-of-type {\n",
       "        vertical-align: middle;\n",
       "    }\n",
       "\n",
       "    .dataframe tbody tr th {\n",
       "        vertical-align: top;\n",
       "    }\n",
       "\n",
       "    .dataframe thead th {\n",
       "        text-align: right;\n",
       "    }\n",
       "</style>\n",
       "<table border=\"1\" class=\"dataframe\">\n",
       "  <thead>\n",
       "    <tr style=\"text-align: right;\">\n",
       "      <th></th>\n",
       "      <th>type_apartment</th>\n",
       "      <th>type_duplex</th>\n",
       "      <th>type_penthouse</th>\n",
       "      <th>type_room</th>\n",
       "      <th>type_studio</th>\n",
       "      <th>bedrooms_1</th>\n",
       "      <th>bedrooms_10</th>\n",
       "      <th>bedrooms_10+</th>\n",
       "      <th>bedrooms_2</th>\n",
       "      <th>bedrooms_3</th>\n",
       "      <th>...</th>\n",
       "      <th>region_waili</th>\n",
       "      <th>region_wardian</th>\n",
       "      <th>region_warraq</th>\n",
       "      <th>region_west somid</th>\n",
       "      <th>region_zagazig</th>\n",
       "      <th>region_zahraa al maadi</th>\n",
       "      <th>region_zamalek</th>\n",
       "      <th>region_zawya al-hamra</th>\n",
       "      <th>region_zezenia</th>\n",
       "      <th>region_zohour district</th>\n",
       "    </tr>\n",
       "  </thead>\n",
       "  <tbody>\n",
       "    <tr>\n",
       "      <th>0</th>\n",
       "      <td>1.00</td>\n",
       "      <td>0.00</td>\n",
       "      <td>0.00</td>\n",
       "      <td>0.00</td>\n",
       "      <td>0.00</td>\n",
       "      <td>0.00</td>\n",
       "      <td>0.00</td>\n",
       "      <td>0.00</td>\n",
       "      <td>1.00</td>\n",
       "      <td>0.00</td>\n",
       "      <td>...</td>\n",
       "      <td>0.00</td>\n",
       "      <td>0.00</td>\n",
       "      <td>0.00</td>\n",
       "      <td>0.00</td>\n",
       "      <td>0.00</td>\n",
       "      <td>0.00</td>\n",
       "      <td>0.00</td>\n",
       "      <td>0.00</td>\n",
       "      <td>0.00</td>\n",
       "      <td>0.00</td>\n",
       "    </tr>\n",
       "    <tr>\n",
       "      <th>1</th>\n",
       "      <td>1.00</td>\n",
       "      <td>0.00</td>\n",
       "      <td>0.00</td>\n",
       "      <td>0.00</td>\n",
       "      <td>0.00</td>\n",
       "      <td>0.00</td>\n",
       "      <td>0.00</td>\n",
       "      <td>0.00</td>\n",
       "      <td>1.00</td>\n",
       "      <td>0.00</td>\n",
       "      <td>...</td>\n",
       "      <td>0.00</td>\n",
       "      <td>0.00</td>\n",
       "      <td>0.00</td>\n",
       "      <td>0.00</td>\n",
       "      <td>0.00</td>\n",
       "      <td>0.00</td>\n",
       "      <td>0.00</td>\n",
       "      <td>0.00</td>\n",
       "      <td>0.00</td>\n",
       "      <td>0.00</td>\n",
       "    </tr>\n",
       "    <tr>\n",
       "      <th>2</th>\n",
       "      <td>1.00</td>\n",
       "      <td>0.00</td>\n",
       "      <td>0.00</td>\n",
       "      <td>0.00</td>\n",
       "      <td>0.00</td>\n",
       "      <td>0.00</td>\n",
       "      <td>0.00</td>\n",
       "      <td>0.00</td>\n",
       "      <td>1.00</td>\n",
       "      <td>0.00</td>\n",
       "      <td>...</td>\n",
       "      <td>0.00</td>\n",
       "      <td>0.00</td>\n",
       "      <td>0.00</td>\n",
       "      <td>0.00</td>\n",
       "      <td>0.00</td>\n",
       "      <td>0.00</td>\n",
       "      <td>0.00</td>\n",
       "      <td>0.00</td>\n",
       "      <td>0.00</td>\n",
       "      <td>0.00</td>\n",
       "    </tr>\n",
       "    <tr>\n",
       "      <th>3</th>\n",
       "      <td>1.00</td>\n",
       "      <td>0.00</td>\n",
       "      <td>0.00</td>\n",
       "      <td>0.00</td>\n",
       "      <td>0.00</td>\n",
       "      <td>0.00</td>\n",
       "      <td>0.00</td>\n",
       "      <td>0.00</td>\n",
       "      <td>0.00</td>\n",
       "      <td>1.00</td>\n",
       "      <td>...</td>\n",
       "      <td>0.00</td>\n",
       "      <td>0.00</td>\n",
       "      <td>0.00</td>\n",
       "      <td>0.00</td>\n",
       "      <td>0.00</td>\n",
       "      <td>0.00</td>\n",
       "      <td>0.00</td>\n",
       "      <td>0.00</td>\n",
       "      <td>0.00</td>\n",
       "      <td>0.00</td>\n",
       "    </tr>\n",
       "    <tr>\n",
       "      <th>4</th>\n",
       "      <td>1.00</td>\n",
       "      <td>0.00</td>\n",
       "      <td>0.00</td>\n",
       "      <td>0.00</td>\n",
       "      <td>0.00</td>\n",
       "      <td>0.00</td>\n",
       "      <td>0.00</td>\n",
       "      <td>0.00</td>\n",
       "      <td>0.00</td>\n",
       "      <td>1.00</td>\n",
       "      <td>...</td>\n",
       "      <td>0.00</td>\n",
       "      <td>0.00</td>\n",
       "      <td>0.00</td>\n",
       "      <td>0.00</td>\n",
       "      <td>0.00</td>\n",
       "      <td>0.00</td>\n",
       "      <td>0.00</td>\n",
       "      <td>0.00</td>\n",
       "      <td>0.00</td>\n",
       "      <td>0.00</td>\n",
       "    </tr>\n",
       "    <tr>\n",
       "      <th>...</th>\n",
       "      <td>...</td>\n",
       "      <td>...</td>\n",
       "      <td>...</td>\n",
       "      <td>...</td>\n",
       "      <td>...</td>\n",
       "      <td>...</td>\n",
       "      <td>...</td>\n",
       "      <td>...</td>\n",
       "      <td>...</td>\n",
       "      <td>...</td>\n",
       "      <td>...</td>\n",
       "      <td>...</td>\n",
       "      <td>...</td>\n",
       "      <td>...</td>\n",
       "      <td>...</td>\n",
       "      <td>...</td>\n",
       "      <td>...</td>\n",
       "      <td>...</td>\n",
       "      <td>...</td>\n",
       "      <td>...</td>\n",
       "      <td>...</td>\n",
       "    </tr>\n",
       "    <tr>\n",
       "      <th>14157</th>\n",
       "      <td>1.00</td>\n",
       "      <td>0.00</td>\n",
       "      <td>0.00</td>\n",
       "      <td>0.00</td>\n",
       "      <td>0.00</td>\n",
       "      <td>0.00</td>\n",
       "      <td>0.00</td>\n",
       "      <td>0.00</td>\n",
       "      <td>1.00</td>\n",
       "      <td>0.00</td>\n",
       "      <td>...</td>\n",
       "      <td>0.00</td>\n",
       "      <td>0.00</td>\n",
       "      <td>0.00</td>\n",
       "      <td>0.00</td>\n",
       "      <td>0.00</td>\n",
       "      <td>0.00</td>\n",
       "      <td>0.00</td>\n",
       "      <td>0.00</td>\n",
       "      <td>0.00</td>\n",
       "      <td>0.00</td>\n",
       "    </tr>\n",
       "    <tr>\n",
       "      <th>14158</th>\n",
       "      <td>0.00</td>\n",
       "      <td>1.00</td>\n",
       "      <td>0.00</td>\n",
       "      <td>0.00</td>\n",
       "      <td>0.00</td>\n",
       "      <td>0.00</td>\n",
       "      <td>0.00</td>\n",
       "      <td>0.00</td>\n",
       "      <td>0.00</td>\n",
       "      <td>0.00</td>\n",
       "      <td>...</td>\n",
       "      <td>0.00</td>\n",
       "      <td>0.00</td>\n",
       "      <td>0.00</td>\n",
       "      <td>0.00</td>\n",
       "      <td>0.00</td>\n",
       "      <td>0.00</td>\n",
       "      <td>0.00</td>\n",
       "      <td>0.00</td>\n",
       "      <td>0.00</td>\n",
       "      <td>0.00</td>\n",
       "    </tr>\n",
       "    <tr>\n",
       "      <th>14159</th>\n",
       "      <td>1.00</td>\n",
       "      <td>0.00</td>\n",
       "      <td>0.00</td>\n",
       "      <td>0.00</td>\n",
       "      <td>0.00</td>\n",
       "      <td>0.00</td>\n",
       "      <td>0.00</td>\n",
       "      <td>0.00</td>\n",
       "      <td>0.00</td>\n",
       "      <td>1.00</td>\n",
       "      <td>...</td>\n",
       "      <td>0.00</td>\n",
       "      <td>0.00</td>\n",
       "      <td>0.00</td>\n",
       "      <td>0.00</td>\n",
       "      <td>0.00</td>\n",
       "      <td>0.00</td>\n",
       "      <td>0.00</td>\n",
       "      <td>0.00</td>\n",
       "      <td>0.00</td>\n",
       "      <td>0.00</td>\n",
       "    </tr>\n",
       "    <tr>\n",
       "      <th>14160</th>\n",
       "      <td>1.00</td>\n",
       "      <td>0.00</td>\n",
       "      <td>0.00</td>\n",
       "      <td>0.00</td>\n",
       "      <td>0.00</td>\n",
       "      <td>0.00</td>\n",
       "      <td>0.00</td>\n",
       "      <td>0.00</td>\n",
       "      <td>0.00</td>\n",
       "      <td>1.00</td>\n",
       "      <td>...</td>\n",
       "      <td>0.00</td>\n",
       "      <td>0.00</td>\n",
       "      <td>0.00</td>\n",
       "      <td>0.00</td>\n",
       "      <td>0.00</td>\n",
       "      <td>0.00</td>\n",
       "      <td>0.00</td>\n",
       "      <td>0.00</td>\n",
       "      <td>0.00</td>\n",
       "      <td>0.00</td>\n",
       "    </tr>\n",
       "    <tr>\n",
       "      <th>14161</th>\n",
       "      <td>1.00</td>\n",
       "      <td>0.00</td>\n",
       "      <td>0.00</td>\n",
       "      <td>0.00</td>\n",
       "      <td>0.00</td>\n",
       "      <td>0.00</td>\n",
       "      <td>0.00</td>\n",
       "      <td>0.00</td>\n",
       "      <td>0.00</td>\n",
       "      <td>1.00</td>\n",
       "      <td>...</td>\n",
       "      <td>0.00</td>\n",
       "      <td>0.00</td>\n",
       "      <td>0.00</td>\n",
       "      <td>0.00</td>\n",
       "      <td>0.00</td>\n",
       "      <td>0.00</td>\n",
       "      <td>0.00</td>\n",
       "      <td>0.00</td>\n",
       "      <td>0.00</td>\n",
       "      <td>0.00</td>\n",
       "    </tr>\n",
       "  </tbody>\n",
       "</table>\n",
       "<p>14162 rows × 233 columns</p>\n",
       "</div>\n",
       "      <button class=\"colab-df-convert\" onclick=\"convertToInteractive('df-ebb8e5a7-d3e7-4de8-b5fe-ae4228f2a2eb')\"\n",
       "              title=\"Convert this dataframe to an interactive table.\"\n",
       "              style=\"display:none;\">\n",
       "        \n",
       "  <svg xmlns=\"http://www.w3.org/2000/svg\" height=\"24px\"viewBox=\"0 0 24 24\"\n",
       "       width=\"24px\">\n",
       "    <path d=\"M0 0h24v24H0V0z\" fill=\"none\"/>\n",
       "    <path d=\"M18.56 5.44l.94 2.06.94-2.06 2.06-.94-2.06-.94-.94-2.06-.94 2.06-2.06.94zm-11 1L8.5 8.5l.94-2.06 2.06-.94-2.06-.94L8.5 2.5l-.94 2.06-2.06.94zm10 10l.94 2.06.94-2.06 2.06-.94-2.06-.94-.94-2.06-.94 2.06-2.06.94z\"/><path d=\"M17.41 7.96l-1.37-1.37c-.4-.4-.92-.59-1.43-.59-.52 0-1.04.2-1.43.59L10.3 9.45l-7.72 7.72c-.78.78-.78 2.05 0 2.83L4 21.41c.39.39.9.59 1.41.59.51 0 1.02-.2 1.41-.59l7.78-7.78 2.81-2.81c.8-.78.8-2.07 0-2.86zM5.41 20L4 18.59l7.72-7.72 1.47 1.35L5.41 20z\"/>\n",
       "  </svg>\n",
       "      </button>\n",
       "      \n",
       "  <style>\n",
       "    .colab-df-container {\n",
       "      display:flex;\n",
       "      flex-wrap:wrap;\n",
       "      gap: 12px;\n",
       "    }\n",
       "\n",
       "    .colab-df-convert {\n",
       "      background-color: #E8F0FE;\n",
       "      border: none;\n",
       "      border-radius: 50%;\n",
       "      cursor: pointer;\n",
       "      display: none;\n",
       "      fill: #1967D2;\n",
       "      height: 32px;\n",
       "      padding: 0 0 0 0;\n",
       "      width: 32px;\n",
       "    }\n",
       "\n",
       "    .colab-df-convert:hover {\n",
       "      background-color: #E2EBFA;\n",
       "      box-shadow: 0px 1px 2px rgba(60, 64, 67, 0.3), 0px 1px 3px 1px rgba(60, 64, 67, 0.15);\n",
       "      fill: #174EA6;\n",
       "    }\n",
       "\n",
       "    [theme=dark] .colab-df-convert {\n",
       "      background-color: #3B4455;\n",
       "      fill: #D2E3FC;\n",
       "    }\n",
       "\n",
       "    [theme=dark] .colab-df-convert:hover {\n",
       "      background-color: #434B5C;\n",
       "      box-shadow: 0px 1px 3px 1px rgba(0, 0, 0, 0.15);\n",
       "      filter: drop-shadow(0px 1px 2px rgba(0, 0, 0, 0.3));\n",
       "      fill: #FFFFFF;\n",
       "    }\n",
       "  </style>\n",
       "\n",
       "      <script>\n",
       "        const buttonEl =\n",
       "          document.querySelector('#df-ebb8e5a7-d3e7-4de8-b5fe-ae4228f2a2eb button.colab-df-convert');\n",
       "        buttonEl.style.display =\n",
       "          google.colab.kernel.accessAllowed ? 'block' : 'none';\n",
       "\n",
       "        async function convertToInteractive(key) {\n",
       "          const element = document.querySelector('#df-ebb8e5a7-d3e7-4de8-b5fe-ae4228f2a2eb');\n",
       "          const dataTable =\n",
       "            await google.colab.kernel.invokeFunction('convertToInteractive',\n",
       "                                                     [key], {});\n",
       "          if (!dataTable) return;\n",
       "\n",
       "          const docLinkHtml = 'Like what you see? Visit the ' +\n",
       "            '<a target=\"_blank\" href=https://colab.research.google.com/notebooks/data_table.ipynb>data table notebook</a>'\n",
       "            + ' to learn more about interactive tables.';\n",
       "          element.innerHTML = '';\n",
       "          dataTable['output_type'] = 'display_data';\n",
       "          await google.colab.output.renderOutput(dataTable, element);\n",
       "          const docLink = document.createElement('div');\n",
       "          docLink.innerHTML = docLinkHtml;\n",
       "          element.appendChild(docLink);\n",
       "        }\n",
       "      </script>\n",
       "    </div>\n",
       "  </div>\n",
       "  "
      ],
      "text/plain": [
       "       type_apartment  type_duplex  type_penthouse  type_room  type_studio  \\\n",
       "0                1.00         0.00            0.00       0.00         0.00   \n",
       "1                1.00         0.00            0.00       0.00         0.00   \n",
       "2                1.00         0.00            0.00       0.00         0.00   \n",
       "3                1.00         0.00            0.00       0.00         0.00   \n",
       "4                1.00         0.00            0.00       0.00         0.00   \n",
       "...               ...          ...             ...        ...          ...   \n",
       "14157            1.00         0.00            0.00       0.00         0.00   \n",
       "14158            0.00         1.00            0.00       0.00         0.00   \n",
       "14159            1.00         0.00            0.00       0.00         0.00   \n",
       "14160            1.00         0.00            0.00       0.00         0.00   \n",
       "14161            1.00         0.00            0.00       0.00         0.00   \n",
       "\n",
       "       bedrooms_1  bedrooms_10  bedrooms_10+  bedrooms_2  bedrooms_3  ...  \\\n",
       "0            0.00         0.00          0.00        1.00        0.00  ...   \n",
       "1            0.00         0.00          0.00        1.00        0.00  ...   \n",
       "2            0.00         0.00          0.00        1.00        0.00  ...   \n",
       "3            0.00         0.00          0.00        0.00        1.00  ...   \n",
       "4            0.00         0.00          0.00        0.00        1.00  ...   \n",
       "...           ...          ...           ...         ...         ...  ...   \n",
       "14157        0.00         0.00          0.00        1.00        0.00  ...   \n",
       "14158        0.00         0.00          0.00        0.00        0.00  ...   \n",
       "14159        0.00         0.00          0.00        0.00        1.00  ...   \n",
       "14160        0.00         0.00          0.00        0.00        1.00  ...   \n",
       "14161        0.00         0.00          0.00        0.00        1.00  ...   \n",
       "\n",
       "       region_waili  region_wardian  region_warraq  region_west somid  \\\n",
       "0              0.00            0.00           0.00               0.00   \n",
       "1              0.00            0.00           0.00               0.00   \n",
       "2              0.00            0.00           0.00               0.00   \n",
       "3              0.00            0.00           0.00               0.00   \n",
       "4              0.00            0.00           0.00               0.00   \n",
       "...             ...             ...            ...                ...   \n",
       "14157          0.00            0.00           0.00               0.00   \n",
       "14158          0.00            0.00           0.00               0.00   \n",
       "14159          0.00            0.00           0.00               0.00   \n",
       "14160          0.00            0.00           0.00               0.00   \n",
       "14161          0.00            0.00           0.00               0.00   \n",
       "\n",
       "       region_zagazig  region_zahraa al maadi  region_zamalek  \\\n",
       "0                0.00                    0.00            0.00   \n",
       "1                0.00                    0.00            0.00   \n",
       "2                0.00                    0.00            0.00   \n",
       "3                0.00                    0.00            0.00   \n",
       "4                0.00                    0.00            0.00   \n",
       "...               ...                     ...             ...   \n",
       "14157            0.00                    0.00            0.00   \n",
       "14158            0.00                    0.00            0.00   \n",
       "14159            0.00                    0.00            0.00   \n",
       "14160            0.00                    0.00            0.00   \n",
       "14161            0.00                    0.00            0.00   \n",
       "\n",
       "       region_zawya al-hamra  region_zezenia  region_zohour district  \n",
       "0                       0.00            0.00                    0.00  \n",
       "1                       0.00            0.00                    0.00  \n",
       "2                       0.00            0.00                    0.00  \n",
       "3                       0.00            0.00                    0.00  \n",
       "4                       0.00            0.00                    0.00  \n",
       "...                      ...             ...                     ...  \n",
       "14157                   0.00            0.00                    0.00  \n",
       "14158                   0.00            0.00                    0.00  \n",
       "14159                   0.00            0.00                    0.00  \n",
       "14160                   0.00            0.00                    0.00  \n",
       "14161                   0.00            0.00                    0.00  \n",
       "\n",
       "[14162 rows x 233 columns]"
      ]
     },
     "execution_count": 19,
     "metadata": {},
     "output_type": "execute_result"
    }
   ],
   "source": [
    "cat_one_hot_df = pd.DataFrame(train_cat_one_hot.toarray(), \n",
    "                              columns= cat_encoder.get_feature_names_out(), \n",
    "                              index = train.index)\n",
    "cat_one_hot_df"
   ]
  },
  {
   "cell_type": "markdown",
   "metadata": {
    "id": "agQ8BJIWKy0j"
   },
   "source": [
    "<h1><b>Q7: Demonstrate how to use sklearn's MinMaxScaler on the numerical columns. Use the cat_columns and num_columns lists to quickly specify categorical or numerical attributes. Use the same process as OneHotEncoder but for num_columns</b></h1>"
   ]
  },
  {
   "cell_type": "code",
   "execution_count": null,
   "metadata": {
    "colab": {
     "base_uri": "https://localhost:8080/"
    },
    "id": "4FC9feNEKy0k",
    "outputId": "05379ce9-6790-4b52-ec4d-ac50196de42d"
   },
   "outputs": [
    {
     "data": {
      "text/plain": [
       "array([[0.15811088, 0.08592068],\n",
       "       [0.16324435, 0.26651386],\n",
       "       [0.07084189, 0.1164826 ],\n",
       "       ...,\n",
       "       [0.13244353, 0.10814753],\n",
       "       [0.15811088, 0.12898521],\n",
       "       [0.19917864, 0.10814753]])"
      ]
     },
     "execution_count": 20,
     "metadata": {},
     "output_type": "execute_result"
    }
   ],
   "source": [
    "from sklearn.preprocessing import MinMaxScaler\n",
    "scaler = MinMaxScaler()\n",
    "scaler.fit_transform(train[num_columns])\n",
    "\n"
   ]
  },
  {
   "cell_type": "markdown",
   "metadata": {
    "id": "vHjcbi0WUONY"
   },
   "source": [
    "All previous preprocessing steps were for demonstration purposes. We'll actually be using sklearn's pipeline feature to construct our preprocessing pipeline like so:"
   ]
  },
  {
   "cell_type": "markdown",
   "metadata": {
    "id": "lVr_4ajeKy0r"
   },
   "source": [
    "## Transformation Pipelines"
   ]
  },
  {
   "cell_type": "markdown",
   "metadata": {
    "id": "2BBi1d_4UdSn"
   },
   "source": [
    "The next cell is an example for how to create a pipeline for categorical features only. It's a way to execute all the preprocessing steps using one call to cat_pipeline"
   ]
  },
  {
   "cell_type": "code",
   "execution_count": null,
   "metadata": {
    "colab": {
     "base_uri": "https://localhost:8080/"
    },
    "id": "iAd2I0v_VKXm",
    "outputId": "ed8e4048-17c0-4bb3-c5a9-af4feaf9e509"
   },
   "outputs": [
    {
     "data": {
      "text/plain": [
       "<14162x232 sparse matrix of type '<class 'numpy.float64'>'\n",
       "\twith 113296 stored elements in Compressed Sparse Row format>"
      ]
     },
     "execution_count": 21,
     "metadata": {},
     "output_type": "execute_result"
    }
   ],
   "source": [
    "from sklearn.pipeline import make_pipeline\n",
    "\n",
    "cat_pipeline = make_pipeline(\n",
    "    SimpleImputer(strategy=\"most_frequent\"),\n",
    "    OneHotEncoder(handle_unknown=\"ignore\"))\n",
    "\n",
    "cat_pipeline.fit_transform(train[cat_columns])"
   ]
  },
  {
   "cell_type": "code",
   "execution_count": null,
   "metadata": {
    "colab": {
     "base_uri": "https://localhost:8080/"
    },
    "id": "lwiM6C-bKy0s",
    "outputId": "1b478b18-00b7-424a-86bb-d94d6ffeb83c"
   },
   "outputs": [
    {
     "data": {
      "text/plain": [
       "[('simpleimputer', SimpleImputer(strategy='most_frequent')),\n",
       " ('onehotencoder', OneHotEncoder(handle_unknown='ignore'))]"
      ]
     },
     "execution_count": 22,
     "metadata": {},
     "output_type": "execute_result"
    }
   ],
   "source": [
    "cat_pipeline.steps"
   ]
  },
  {
   "cell_type": "code",
   "execution_count": null,
   "metadata": {
    "colab": {
     "base_uri": "https://localhost:8080/"
    },
    "id": "eKjr2Y8OVzJX",
    "outputId": "84a8e476-008c-49a7-b546-6b5c1251e394"
   },
   "outputs": [
    {
     "data": {
      "text/plain": [
       "<14162x923 sparse matrix of type '<class 'numpy.float64'>'\n",
       "\twith 28324 stored elements in Compressed Sparse Row format>"
      ]
     },
     "execution_count": 23,
     "metadata": {},
     "output_type": "execute_result"
    }
   ],
   "source": [
    "from sklearn.pipeline import make_pipeline\n",
    "\n",
    "num_pipeline = make_pipeline(\n",
    "    SimpleImputer(strategy=\"median\"),\n",
    "    OneHotEncoder(handle_unknown=\"ignore\"))\n",
    "\n",
    "num_pipeline.fit_transform(train[num_columns])"
   ]
  },
  {
   "cell_type": "markdown",
   "metadata": {
    "id": "3qjT_3cWVzkY"
   },
   "source": [
    "The next cell shows how to combine the two pipelines for numerical and categorical features to create our preprocessing pipeline for all features"
   ]
  },
  {
   "cell_type": "code",
   "execution_count": null,
   "metadata": {
    "id": "2JD_0oqEKy0u"
   },
   "outputs": [],
   "source": [
    "from sklearn.compose import ColumnTransformer\n",
    "\n",
    "preprocessing = ColumnTransformer([\n",
    "    (\"num\", num_pipeline, num_columns),\n",
    "    (\"cat\", cat_pipeline, cat_columns),\n",
    "])"
   ]
  },
  {
   "cell_type": "markdown",
   "metadata": {
    "id": "hhZJCOnyWAR5"
   },
   "source": [
    "<h1><b>Q9: Define a variable X equal to all columns in the train dataset except price. Define another variable y that's just the price column</b></h1>"
   ]
  },
  {
   "cell_type": "code",
   "execution_count": null,
   "metadata": {
    "id": "QlPapa8Jwhdz"
   },
   "outputs": [],
   "source": [
    "X = train.drop('price',axis=1) # Independent variable\n",
    "y = train['price'] # Dependent variable"
   ]
  },
  {
   "cell_type": "markdown",
   "metadata": {
    "id": "YUq8KLVIKy0v"
   },
   "source": [
    "# Select and Train a Model"
   ]
  },
  {
   "cell_type": "markdown",
   "metadata": {
    "id": "sR9KdRErKy0w"
   },
   "source": [
    "## Training and Evaluating on the Training Set"
   ]
  },
  {
   "cell_type": "markdown",
   "metadata": {
    "id": "m8fnFcQcWNhZ"
   },
   "source": [
    "The following cell demonstrates how to import a simple LinearRegression model and that you can add models at the end of existing pipelines to make a pipeline for preprocessing and training"
   ]
  },
  {
   "cell_type": "code",
   "execution_count": null,
   "metadata": {
    "colab": {
     "base_uri": "https://localhost:8080/"
    },
    "id": "k-HxuwKwKy0w",
    "outputId": "bb2a1998-030c-462d-874f-cc26e8d4f9f7"
   },
   "outputs": [
    {
     "data": {
      "text/plain": [
       "1120077.5775409748"
      ]
     },
     "execution_count": 26,
     "metadata": {},
     "output_type": "execute_result"
    }
   ],
   "source": [
    "from sklearn.linear_model import LinearRegression\n",
    "from sklearn.metrics import mean_squared_error\n",
    "\n",
    "lin_reg = make_pipeline(preprocessing, LinearRegression())\n",
    "#This fits the model with the X as input and y as the target\n",
    "lin_reg.fit(X, y) \n",
    "#This is making predictions on the training set which doesn't make sense\n",
    "#It's only used here to demonstrate how to use the model to make predictions\n",
    "predictions = lin_reg.predict(X) \n",
    "#Let's see the RMSE for the model on the training set\n",
    "#Look at the documentation for mean_squared_error for more info\n",
    "lin_rmse = mean_squared_error(y, predictions,\n",
    "                              squared=False)\n",
    "lin_rmse"
   ]
  },
  {
   "cell_type": "markdown",
   "metadata": {
    "id": "z98EGIazY5bO"
   },
   "source": [
    "<h1><b>Q10: Import the RandomForestRegressor model and create a pipeline like the previous cell but with RandomForestRegressor instead of LinearRegressor. Don't forget to set the random_state parameter to any number to get reproducible results</b></h1>"
   ]
  },
  {
   "cell_type": "code",
   "execution_count": null,
   "metadata": {
    "colab": {
     "base_uri": "https://localhost:8080/"
    },
    "id": "fhzFDbpdAi3n",
    "outputId": "01d8703a-2254-4360-feaf-332186036b01"
   },
   "outputs": [
    {
     "name": "stdout",
     "output_type": "stream",
     "text": [
      "<class 'pandas.core.frame.DataFrame'>\n",
      "RangeIndex: 14162 entries, 0 to 14161\n",
      "Data columns (total 11 columns):\n",
      " #   Column                  Non-Null Count  Dtype  \n",
      "---  ------                  --------------  -----  \n",
      " 0   type                    14162 non-null  object \n",
      " 1   area                    14162 non-null  float64\n",
      " 2   bedrooms                14162 non-null  object \n",
      " 3   bathrooms               14162 non-null  int64  \n",
      " 4   level                   14162 non-null  object \n",
      " 5   furnished               11136 non-null  object \n",
      " 6   rent                    14162 non-null  object \n",
      " 7   city                    14162 non-null  object \n",
      " 8   region                  14162 non-null  object \n",
      " 9   price                   14162 non-null  float64\n",
      " 10  area_to_bathroom_ratio  14162 non-null  float64\n",
      "dtypes: float64(3), int64(1), object(7)\n",
      "memory usage: 1.2+ MB\n"
     ]
    }
   ],
   "source": [
    "train.info()\n"
   ]
  },
  {
   "cell_type": "code",
   "execution_count": null,
   "metadata": {
    "colab": {
     "base_uri": "https://localhost:8080/"
    },
    "id": "rKyJS4D4ak2C",
    "outputId": "d6eabcac-1e87-44d3-cb7e-56e6513f3bdb"
   },
   "outputs": [
    {
     "data": {
      "text/plain": [
       "Pipeline(steps=[('columntransformer',\n",
       "                 ColumnTransformer(transformers=[('num',\n",
       "                                                  Pipeline(steps=[('simpleimputer',\n",
       "                                                                   SimpleImputer(strategy='median')),\n",
       "                                                                  ('onehotencoder',\n",
       "                                                                   OneHotEncoder(handle_unknown='ignore'))]),\n",
       "                                                  ['area',\n",
       "                                                   'area_to_bathroom_ratio']),\n",
       "                                                 ('cat',\n",
       "                                                  Pipeline(steps=[('simpleimputer',\n",
       "                                                                   SimpleImputer(strategy='most_frequent')),\n",
       "                                                                  ('onehotencoder',\n",
       "                                                                   OneHotEncoder(handle_unknown='ignore'))]),\n",
       "                                                  ['type', 'bedrooms',\n",
       "                                                   'bathrooms', 'level',\n",
       "                                                   'furnished', 'rent', 'city',\n",
       "                                                   'region'])])),\n",
       "                ('randomforestregressor',\n",
       "                 RandomForestRegressor(random_state=0))])"
      ]
     },
     "execution_count": 28,
     "metadata": {},
     "output_type": "execute_result"
    }
   ],
   "source": [
    "# Fitting Random Forest Regression to the dataset\n",
    "# import the regressor\n",
    "from sklearn.ensemble import RandomForestRegressor\n",
    "regressor = RandomForestRegressor(n_estimators = 100, random_state = 0)\n",
    "RandFor_reg = make_pipeline(preprocessing,regressor)\n",
    "RandFor_reg.fit(X, y)"
   ]
  },
  {
   "cell_type": "markdown",
   "metadata": {
    "id": "geYRFEMHKy0y"
   },
   "source": [
    "## Better Evaluation Using Cross-Validation"
   ]
  },
  {
   "cell_type": "markdown",
   "metadata": {
    "id": "ZwkESkMGaJEK"
   },
   "source": [
    "<h1><b>Q11: Now import and use the cross_val_score function from sklearn. You need to pass in your model's pipeline, the X and y, and then specify the scoring metric to be \"neg_root_mean_squared_error\". </b></h1>"
   ]
  },
  {
   "cell_type": "markdown",
   "metadata": {
    "id": "NFfBowVhasF5"
   },
   "source": [
    "Note: This might take a few minutes to run!"
   ]
  },
  {
   "cell_type": "markdown",
   "metadata": {
    "id": "miTbIMYRbYHY"
   },
   "source": [
    "Another Note: The cross_val_score function already splits the training data into training and validation data and reports the validation score.\n",
    "There's no test data for you to split because I had already split it and won't make it available to you till later on :P"
   ]
  },
  {
   "cell_type": "code",
   "execution_count": null,
   "metadata": {
    "id": "gxxIuQILZt8c"
   },
   "outputs": [],
   "source": [
    "from sklearn.model_selection import cross_val_score\n",
    "scores = cross_val_score(RandFor_reg, X, y, cv=5, scoring='neg_root_mean_squared_error')\n",
    "\n",
    "#print(\"Mean score of %0.2f with a standard deviation of %0.2f\" % (scores.mean(), scores.std()))"
   ]
  },
  {
   "cell_type": "markdown",
   "metadata": {
    "id": "6jqVCScJKy0z"
   },
   "source": [
    "# Fine-Tune Your Model"
   ]
  },
  {
   "cell_type": "markdown",
   "metadata": {
    "id": "mYlMTc7JKy00"
   },
   "source": [
    "## Grid Search"
   ]
  },
  {
   "cell_type": "markdown",
   "metadata": {
    "id": "qfupzsFMbTih"
   },
   "source": [
    "The following demonstrates how to use grid search to do exhaustive search using the full pipeline (preprocessing + model).\n",
    "\n",
    "It tries all combinations of the provided values and selects the model with the best score."
   ]
  },
  {
   "cell_type": "code",
   "execution_count": null,
   "metadata": {
    "colab": {
     "base_uri": "https://localhost:8080/"
    },
    "id": "-J20SYlVKy00",
    "outputId": "20627d5a-878f-4534-e788-b0b105e4d5dd"
   },
   "outputs": [
    {
     "data": {
      "text/plain": [
       "GridSearchCV(cv=3,\n",
       "             estimator=Pipeline(steps=[('preprocessing',\n",
       "                                        ColumnTransformer(transformers=[('num',\n",
       "                                                                         Pipeline(steps=[('simpleimputer',\n",
       "                                                                                          SimpleImputer(strategy='median')),\n",
       "                                                                                         ('onehotencoder',\n",
       "                                                                                          OneHotEncoder(handle_unknown='ignore'))]),\n",
       "                                                                         ['area',\n",
       "                                                                          'area_to_bathroom_ratio']),\n",
       "                                                                        ('cat',\n",
       "                                                                         Pipeline(steps=[('simpleimputer',\n",
       "                                                                                          SimpleImputer(strategy='most_frequent')),\n",
       "                                                                                         ('onehot...\n",
       "                                                                                          OneHotEncoder(handle_unknown='ignore'))]),\n",
       "                                                                         ['type',\n",
       "                                                                          'bedrooms',\n",
       "                                                                          'bathrooms',\n",
       "                                                                          'level',\n",
       "                                                                          'furnished',\n",
       "                                                                          'rent',\n",
       "                                                                          'city',\n",
       "                                                                          'region'])])),\n",
       "                                       ('random_forest',\n",
       "                                        RandomForestRegressor(random_state=42))]),\n",
       "             param_grid=[{'random_forest__max_features': [4, 6, 8],\n",
       "                          'random_forest__n_estimators': [16, 32]},\n",
       "                         {'random_forest__max_features': [6, 8, 10],\n",
       "                          'random_forest__n_estimators': [64, 128]}],\n",
       "             scoring='neg_root_mean_squared_error')"
      ]
     },
     "execution_count": 30,
     "metadata": {},
     "output_type": "execute_result"
    }
   ],
   "source": [
    "from sklearn.model_selection import GridSearchCV\n",
    "from sklearn.pipeline import Pipeline\n",
    "\n",
    "full_pipeline = Pipeline([\n",
    "    (\"preprocessing\", preprocessing),\n",
    "    (\"random_forest\", RandomForestRegressor(random_state=42)),\n",
    "])\n",
    "param_grid = [\n",
    "    {'random_forest__n_estimators': [16, 32],\n",
    "     'random_forest__max_features': [4, 6, 8]},\n",
    "    {'random_forest__n_estimators': [64, 128],\n",
    "     'random_forest__max_features': [6, 8, 10]},\n",
    "]\n",
    "grid_search = GridSearchCV(full_pipeline, param_grid, cv=3,\n",
    "                           scoring='neg_root_mean_squared_error')\n",
    "grid_search.fit(X, y)\n"
   ]
  },
  {
   "cell_type": "markdown",
   "metadata": {
    "id": "8AVveWebKy00"
   },
   "source": [
    "The best hyperparameter combination found:"
   ]
  },
  {
   "cell_type": "code",
   "execution_count": null,
   "metadata": {
    "colab": {
     "base_uri": "https://localhost:8080/"
    },
    "id": "-2MeKJq-Ky00",
    "outputId": "cc51c8b2-0e2c-4e41-da15-55293fcb6d09"
   },
   "outputs": [
    {
     "data": {
      "text/plain": [
       "{'random_forest__max_features': 10, 'random_forest__n_estimators': 128}"
      ]
     },
     "execution_count": 31,
     "metadata": {},
     "output_type": "execute_result"
    }
   ],
   "source": [
    "grid_search.best_params_"
   ]
  },
  {
   "cell_type": "markdown",
   "metadata": {
    "id": "avZfbVhOcBUo"
   },
   "source": [
    "The model with the best score will be available as the best_estimator_ attribute of the grid_search object.\n",
    "\n",
    "Since we are using pipelines, the final model is actually a pipeline which means it applies the preprocessing pipeline steps to its input and then the model prediction step"
   ]
  },
  {
   "cell_type": "code",
   "execution_count": null,
   "metadata": {
    "id": "ZZ-Uz-N5Ky01"
   },
   "outputs": [],
   "source": [
    "final_model = grid_search.best_estimator_"
   ]
  },
  {
   "cell_type": "code",
   "execution_count": null,
   "metadata": {
    "colab": {
     "base_uri": "https://localhost:8080/"
    },
    "id": "AlEpv0Ztcdrg",
    "outputId": "a3c8fa40-6f63-45c9-cd70-8da449e858dd"
   },
   "outputs": [
    {
     "data": {
      "text/plain": [
       "Pipeline(steps=[('preprocessing',\n",
       "                 ColumnTransformer(transformers=[('num',\n",
       "                                                  Pipeline(steps=[('simpleimputer',\n",
       "                                                                   SimpleImputer(strategy='median')),\n",
       "                                                                  ('onehotencoder',\n",
       "                                                                   OneHotEncoder(handle_unknown='ignore'))]),\n",
       "                                                  ['area',\n",
       "                                                   'area_to_bathroom_ratio']),\n",
       "                                                 ('cat',\n",
       "                                                  Pipeline(steps=[('simpleimputer',\n",
       "                                                                   SimpleImputer(strategy='most_frequent')),\n",
       "                                                                  ('onehotencoder',\n",
       "                                                                   OneHotEncoder(handle_unknown='ignore'))]),\n",
       "                                                  ['type', 'bedrooms',\n",
       "                                                   'bathrooms', 'level',\n",
       "                                                   'furnished', 'rent', 'city',\n",
       "                                                   'region'])])),\n",
       "                ('random_forest',\n",
       "                 RandomForestRegressor(max_features=10, n_estimators=128,\n",
       "                                       random_state=42))])"
      ]
     },
     "execution_count": 33,
     "metadata": {},
     "output_type": "execute_result"
    }
   ],
   "source": [
    "final_model\n"
   ]
  },
  {
   "cell_type": "markdown",
   "metadata": {
    "id": "qqXx7W6OKy01"
   },
   "source": [
    "Let's look at the score of each hyperparameter combination tested during the grid search:"
   ]
  },
  {
   "cell_type": "code",
   "execution_count": null,
   "metadata": {
    "colab": {
     "base_uri": "https://localhost:8080/",
     "height": 357
    },
    "id": "CXDvtEQbKy01",
    "outputId": "c4a1c85e-537e-40e9-dbec-1d7ac954ede0"
   },
   "outputs": [
    {
     "data": {
      "text/html": [
       "\n",
       "  <div id=\"df-4d73646e-2c93-49e1-a2f8-1c709bec33b1\">\n",
       "    <div class=\"colab-df-container\">\n",
       "      <div>\n",
       "<style scoped>\n",
       "    .dataframe tbody tr th:only-of-type {\n",
       "        vertical-align: middle;\n",
       "    }\n",
       "\n",
       "    .dataframe tbody tr th {\n",
       "        vertical-align: top;\n",
       "    }\n",
       "\n",
       "    .dataframe thead th {\n",
       "        text-align: right;\n",
       "    }\n",
       "</style>\n",
       "<table border=\"1\" class=\"dataframe\">\n",
       "  <thead>\n",
       "    <tr style=\"text-align: right;\">\n",
       "      <th></th>\n",
       "      <th>mean_fit_time</th>\n",
       "      <th>std_fit_time</th>\n",
       "      <th>mean_score_time</th>\n",
       "      <th>std_score_time</th>\n",
       "      <th>param_random_forest__max_features</th>\n",
       "      <th>param_random_forest__n_estimators</th>\n",
       "      <th>params</th>\n",
       "      <th>split0_test_score</th>\n",
       "      <th>split1_test_score</th>\n",
       "      <th>split2_test_score</th>\n",
       "      <th>mean_test_score</th>\n",
       "      <th>std_test_score</th>\n",
       "      <th>rank_test_score</th>\n",
       "    </tr>\n",
       "  </thead>\n",
       "  <tbody>\n",
       "    <tr>\n",
       "      <th>11</th>\n",
       "      <td>21.46</td>\n",
       "      <td>0.21</td>\n",
       "      <td>0.30</td>\n",
       "      <td>0.01</td>\n",
       "      <td>10</td>\n",
       "      <td>128</td>\n",
       "      <td>{'random_forest__max_features': 10, 'random_fo...</td>\n",
       "      <td>-1222275.57</td>\n",
       "      <td>-1247010.69</td>\n",
       "      <td>-1367631.78</td>\n",
       "      <td>-1278972.68</td>\n",
       "      <td>63499.52</td>\n",
       "      <td>1</td>\n",
       "    </tr>\n",
       "    <tr>\n",
       "      <th>9</th>\n",
       "      <td>22.21</td>\n",
       "      <td>0.70</td>\n",
       "      <td>0.32</td>\n",
       "      <td>0.02</td>\n",
       "      <td>8</td>\n",
       "      <td>128</td>\n",
       "      <td>{'random_forest__max_features': 8, 'random_for...</td>\n",
       "      <td>-1226041.86</td>\n",
       "      <td>-1250970.52</td>\n",
       "      <td>-1364083.38</td>\n",
       "      <td>-1280365.25</td>\n",
       "      <td>60066.09</td>\n",
       "      <td>2</td>\n",
       "    </tr>\n",
       "    <tr>\n",
       "      <th>10</th>\n",
       "      <td>10.77</td>\n",
       "      <td>0.04</td>\n",
       "      <td>0.16</td>\n",
       "      <td>0.00</td>\n",
       "      <td>10</td>\n",
       "      <td>64</td>\n",
       "      <td>{'random_forest__max_features': 10, 'random_fo...</td>\n",
       "      <td>-1225850.23</td>\n",
       "      <td>-1250027.40</td>\n",
       "      <td>-1368860.01</td>\n",
       "      <td>-1281579.22</td>\n",
       "      <td>62501.13</td>\n",
       "      <td>3</td>\n",
       "    </tr>\n",
       "    <tr>\n",
       "      <th>7</th>\n",
       "      <td>22.44</td>\n",
       "      <td>0.46</td>\n",
       "      <td>0.33</td>\n",
       "      <td>0.01</td>\n",
       "      <td>6</td>\n",
       "      <td>128</td>\n",
       "      <td>{'random_forest__max_features': 6, 'random_for...</td>\n",
       "      <td>-1225099.88</td>\n",
       "      <td>-1244243.41</td>\n",
       "      <td>-1377764.92</td>\n",
       "      <td>-1282369.40</td>\n",
       "      <td>67906.05</td>\n",
       "      <td>4</td>\n",
       "    </tr>\n",
       "    <tr>\n",
       "      <th>8</th>\n",
       "      <td>11.78</td>\n",
       "      <td>0.56</td>\n",
       "      <td>0.17</td>\n",
       "      <td>0.00</td>\n",
       "      <td>8</td>\n",
       "      <td>64</td>\n",
       "      <td>{'random_forest__max_features': 8, 'random_for...</td>\n",
       "      <td>-1237522.78</td>\n",
       "      <td>-1251598.21</td>\n",
       "      <td>-1367508.89</td>\n",
       "      <td>-1285543.29</td>\n",
       "      <td>58242.59</td>\n",
       "      <td>5</td>\n",
       "    </tr>\n",
       "  </tbody>\n",
       "</table>\n",
       "</div>\n",
       "      <button class=\"colab-df-convert\" onclick=\"convertToInteractive('df-4d73646e-2c93-49e1-a2f8-1c709bec33b1')\"\n",
       "              title=\"Convert this dataframe to an interactive table.\"\n",
       "              style=\"display:none;\">\n",
       "        \n",
       "  <svg xmlns=\"http://www.w3.org/2000/svg\" height=\"24px\"viewBox=\"0 0 24 24\"\n",
       "       width=\"24px\">\n",
       "    <path d=\"M0 0h24v24H0V0z\" fill=\"none\"/>\n",
       "    <path d=\"M18.56 5.44l.94 2.06.94-2.06 2.06-.94-2.06-.94-.94-2.06-.94 2.06-2.06.94zm-11 1L8.5 8.5l.94-2.06 2.06-.94-2.06-.94L8.5 2.5l-.94 2.06-2.06.94zm10 10l.94 2.06.94-2.06 2.06-.94-2.06-.94-.94-2.06-.94 2.06-2.06.94z\"/><path d=\"M17.41 7.96l-1.37-1.37c-.4-.4-.92-.59-1.43-.59-.52 0-1.04.2-1.43.59L10.3 9.45l-7.72 7.72c-.78.78-.78 2.05 0 2.83L4 21.41c.39.39.9.59 1.41.59.51 0 1.02-.2 1.41-.59l7.78-7.78 2.81-2.81c.8-.78.8-2.07 0-2.86zM5.41 20L4 18.59l7.72-7.72 1.47 1.35L5.41 20z\"/>\n",
       "  </svg>\n",
       "      </button>\n",
       "      \n",
       "  <style>\n",
       "    .colab-df-container {\n",
       "      display:flex;\n",
       "      flex-wrap:wrap;\n",
       "      gap: 12px;\n",
       "    }\n",
       "\n",
       "    .colab-df-convert {\n",
       "      background-color: #E8F0FE;\n",
       "      border: none;\n",
       "      border-radius: 50%;\n",
       "      cursor: pointer;\n",
       "      display: none;\n",
       "      fill: #1967D2;\n",
       "      height: 32px;\n",
       "      padding: 0 0 0 0;\n",
       "      width: 32px;\n",
       "    }\n",
       "\n",
       "    .colab-df-convert:hover {\n",
       "      background-color: #E2EBFA;\n",
       "      box-shadow: 0px 1px 2px rgba(60, 64, 67, 0.3), 0px 1px 3px 1px rgba(60, 64, 67, 0.15);\n",
       "      fill: #174EA6;\n",
       "    }\n",
       "\n",
       "    [theme=dark] .colab-df-convert {\n",
       "      background-color: #3B4455;\n",
       "      fill: #D2E3FC;\n",
       "    }\n",
       "\n",
       "    [theme=dark] .colab-df-convert:hover {\n",
       "      background-color: #434B5C;\n",
       "      box-shadow: 0px 1px 3px 1px rgba(0, 0, 0, 0.15);\n",
       "      filter: drop-shadow(0px 1px 2px rgba(0, 0, 0, 0.3));\n",
       "      fill: #FFFFFF;\n",
       "    }\n",
       "  </style>\n",
       "\n",
       "      <script>\n",
       "        const buttonEl =\n",
       "          document.querySelector('#df-4d73646e-2c93-49e1-a2f8-1c709bec33b1 button.colab-df-convert');\n",
       "        buttonEl.style.display =\n",
       "          google.colab.kernel.accessAllowed ? 'block' : 'none';\n",
       "\n",
       "        async function convertToInteractive(key) {\n",
       "          const element = document.querySelector('#df-4d73646e-2c93-49e1-a2f8-1c709bec33b1');\n",
       "          const dataTable =\n",
       "            await google.colab.kernel.invokeFunction('convertToInteractive',\n",
       "                                                     [key], {});\n",
       "          if (!dataTable) return;\n",
       "\n",
       "          const docLinkHtml = 'Like what you see? Visit the ' +\n",
       "            '<a target=\"_blank\" href=https://colab.research.google.com/notebooks/data_table.ipynb>data table notebook</a>'\n",
       "            + ' to learn more about interactive tables.';\n",
       "          element.innerHTML = '';\n",
       "          dataTable['output_type'] = 'display_data';\n",
       "          await google.colab.output.renderOutput(dataTable, element);\n",
       "          const docLink = document.createElement('div');\n",
       "          docLink.innerHTML = docLinkHtml;\n",
       "          element.appendChild(docLink);\n",
       "        }\n",
       "      </script>\n",
       "    </div>\n",
       "  </div>\n",
       "  "
      ],
      "text/plain": [
       "    mean_fit_time  std_fit_time  mean_score_time  std_score_time  \\\n",
       "11          21.46          0.21             0.30            0.01   \n",
       "9           22.21          0.70             0.32            0.02   \n",
       "10          10.77          0.04             0.16            0.00   \n",
       "7           22.44          0.46             0.33            0.01   \n",
       "8           11.78          0.56             0.17            0.00   \n",
       "\n",
       "   param_random_forest__max_features param_random_forest__n_estimators  \\\n",
       "11                                10                               128   \n",
       "9                                  8                               128   \n",
       "10                                10                                64   \n",
       "7                                  6                               128   \n",
       "8                                  8                                64   \n",
       "\n",
       "                                               params  split0_test_score  \\\n",
       "11  {'random_forest__max_features': 10, 'random_fo...        -1222275.57   \n",
       "9   {'random_forest__max_features': 8, 'random_for...        -1226041.86   \n",
       "10  {'random_forest__max_features': 10, 'random_fo...        -1225850.23   \n",
       "7   {'random_forest__max_features': 6, 'random_for...        -1225099.88   \n",
       "8   {'random_forest__max_features': 8, 'random_for...        -1237522.78   \n",
       "\n",
       "    split1_test_score  split2_test_score  mean_test_score  std_test_score  \\\n",
       "11        -1247010.69        -1367631.78      -1278972.68        63499.52   \n",
       "9         -1250970.52        -1364083.38      -1280365.25        60066.09   \n",
       "10        -1250027.40        -1368860.01      -1281579.22        62501.13   \n",
       "7         -1244243.41        -1377764.92      -1282369.40        67906.05   \n",
       "8         -1251598.21        -1367508.89      -1285543.29        58242.59   \n",
       "\n",
       "    rank_test_score  \n",
       "11                1  \n",
       "9                 2  \n",
       "10                3  \n",
       "7                 4  \n",
       "8                 5  "
      ]
     },
     "execution_count": 34,
     "metadata": {},
     "output_type": "execute_result"
    }
   ],
   "source": [
    "cv_res = pd.DataFrame(grid_search.cv_results_)\n",
    "cv_res.sort_values(by=\"mean_test_score\", ascending=False, inplace=True)\n",
    "\n",
    "cv_res.head()\n"
   ]
  },
  {
   "cell_type": "markdown",
   "metadata": {
    "id": "npb4_cldKy04"
   },
   "source": [
    "## Evaluate Your System on the Test Set"
   ]
  },
  {
   "cell_type": "markdown",
   "metadata": {
    "id": "GRpigYjaaBp6"
   },
   "source": [
    "Now we'll load the test set, run our feature engineering function on it, and then pass it to our model's predict function (which does the preprocessing steps before predicting because it's a pipeline object)"
   ]
  },
  {
   "cell_type": "code",
   "execution_count": null,
   "metadata": {
    "id": "EOIcSt0_JTl7"
   },
   "outputs": [],
   "source": [
    "test = pd.read_csv('house_prices_test.csv')\n",
    "test = feature_engineer(test)\n",
    "test_predictions = final_model.predict(test)"
   ]
  },
  {
   "cell_type": "markdown",
   "metadata": {
    "id": "pPyz_03rcrjz"
   },
   "source": [
    "We have a sample submission file demonstrating the format which we should submit our predictions. We'll just replace the price column with our predictions here and save the file"
   ]
  },
  {
   "cell_type": "code",
   "execution_count": null,
   "metadata": {
    "colab": {
     "base_uri": "https://localhost:8080/",
     "height": 424
    },
    "id": "9eQn__LZjeLJ",
    "outputId": "be06188a-e00a-4fa9-861a-8ecfa6f97a04"
   },
   "outputs": [
    {
     "data": {
      "text/html": [
       "\n",
       "  <div id=\"df-82b57245-fa66-4acd-8de0-59f7b58905c7\">\n",
       "    <div class=\"colab-df-container\">\n",
       "      <div>\n",
       "<style scoped>\n",
       "    .dataframe tbody tr th:only-of-type {\n",
       "        vertical-align: middle;\n",
       "    }\n",
       "\n",
       "    .dataframe tbody tr th {\n",
       "        vertical-align: top;\n",
       "    }\n",
       "\n",
       "    .dataframe thead th {\n",
       "        text-align: right;\n",
       "    }\n",
       "</style>\n",
       "<table border=\"1\" class=\"dataframe\">\n",
       "  <thead>\n",
       "    <tr style=\"text-align: right;\">\n",
       "      <th></th>\n",
       "      <th>id</th>\n",
       "      <th>price</th>\n",
       "    </tr>\n",
       "  </thead>\n",
       "  <tbody>\n",
       "    <tr>\n",
       "      <th>0</th>\n",
       "      <td>15462</td>\n",
       "      <td>1095487.11</td>\n",
       "    </tr>\n",
       "    <tr>\n",
       "      <th>1</th>\n",
       "      <td>11766</td>\n",
       "      <td>1100862.91</td>\n",
       "    </tr>\n",
       "    <tr>\n",
       "      <th>2</th>\n",
       "      <td>9160</td>\n",
       "      <td>1125721.02</td>\n",
       "    </tr>\n",
       "    <tr>\n",
       "      <th>3</th>\n",
       "      <td>53004</td>\n",
       "      <td>1739399.61</td>\n",
       "    </tr>\n",
       "    <tr>\n",
       "      <th>4</th>\n",
       "      <td>10998</td>\n",
       "      <td>556246.48</td>\n",
       "    </tr>\n",
       "    <tr>\n",
       "      <th>...</th>\n",
       "      <td>...</td>\n",
       "      <td>...</td>\n",
       "    </tr>\n",
       "    <tr>\n",
       "      <th>3678</th>\n",
       "      <td>32006</td>\n",
       "      <td>700037.72</td>\n",
       "    </tr>\n",
       "    <tr>\n",
       "      <th>3679</th>\n",
       "      <td>7234</td>\n",
       "      <td>640617.31</td>\n",
       "    </tr>\n",
       "    <tr>\n",
       "      <th>3680</th>\n",
       "      <td>15366</td>\n",
       "      <td>2136440.30</td>\n",
       "    </tr>\n",
       "    <tr>\n",
       "      <th>3681</th>\n",
       "      <td>31670</td>\n",
       "      <td>3380822.17</td>\n",
       "    </tr>\n",
       "    <tr>\n",
       "      <th>3682</th>\n",
       "      <td>14384</td>\n",
       "      <td>4931738.28</td>\n",
       "    </tr>\n",
       "  </tbody>\n",
       "</table>\n",
       "<p>3683 rows × 2 columns</p>\n",
       "</div>\n",
       "      <button class=\"colab-df-convert\" onclick=\"convertToInteractive('df-82b57245-fa66-4acd-8de0-59f7b58905c7')\"\n",
       "              title=\"Convert this dataframe to an interactive table.\"\n",
       "              style=\"display:none;\">\n",
       "        \n",
       "  <svg xmlns=\"http://www.w3.org/2000/svg\" height=\"24px\"viewBox=\"0 0 24 24\"\n",
       "       width=\"24px\">\n",
       "    <path d=\"M0 0h24v24H0V0z\" fill=\"none\"/>\n",
       "    <path d=\"M18.56 5.44l.94 2.06.94-2.06 2.06-.94-2.06-.94-.94-2.06-.94 2.06-2.06.94zm-11 1L8.5 8.5l.94-2.06 2.06-.94-2.06-.94L8.5 2.5l-.94 2.06-2.06.94zm10 10l.94 2.06.94-2.06 2.06-.94-2.06-.94-.94-2.06-.94 2.06-2.06.94z\"/><path d=\"M17.41 7.96l-1.37-1.37c-.4-.4-.92-.59-1.43-.59-.52 0-1.04.2-1.43.59L10.3 9.45l-7.72 7.72c-.78.78-.78 2.05 0 2.83L4 21.41c.39.39.9.59 1.41.59.51 0 1.02-.2 1.41-.59l7.78-7.78 2.81-2.81c.8-.78.8-2.07 0-2.86zM5.41 20L4 18.59l7.72-7.72 1.47 1.35L5.41 20z\"/>\n",
       "  </svg>\n",
       "      </button>\n",
       "      \n",
       "  <style>\n",
       "    .colab-df-container {\n",
       "      display:flex;\n",
       "      flex-wrap:wrap;\n",
       "      gap: 12px;\n",
       "    }\n",
       "\n",
       "    .colab-df-convert {\n",
       "      background-color: #E8F0FE;\n",
       "      border: none;\n",
       "      border-radius: 50%;\n",
       "      cursor: pointer;\n",
       "      display: none;\n",
       "      fill: #1967D2;\n",
       "      height: 32px;\n",
       "      padding: 0 0 0 0;\n",
       "      width: 32px;\n",
       "    }\n",
       "\n",
       "    .colab-df-convert:hover {\n",
       "      background-color: #E2EBFA;\n",
       "      box-shadow: 0px 1px 2px rgba(60, 64, 67, 0.3), 0px 1px 3px 1px rgba(60, 64, 67, 0.15);\n",
       "      fill: #174EA6;\n",
       "    }\n",
       "\n",
       "    [theme=dark] .colab-df-convert {\n",
       "      background-color: #3B4455;\n",
       "      fill: #D2E3FC;\n",
       "    }\n",
       "\n",
       "    [theme=dark] .colab-df-convert:hover {\n",
       "      background-color: #434B5C;\n",
       "      box-shadow: 0px 1px 3px 1px rgba(0, 0, 0, 0.15);\n",
       "      filter: drop-shadow(0px 1px 2px rgba(0, 0, 0, 0.3));\n",
       "      fill: #FFFFFF;\n",
       "    }\n",
       "  </style>\n",
       "\n",
       "      <script>\n",
       "        const buttonEl =\n",
       "          document.querySelector('#df-82b57245-fa66-4acd-8de0-59f7b58905c7 button.colab-df-convert');\n",
       "        buttonEl.style.display =\n",
       "          google.colab.kernel.accessAllowed ? 'block' : 'none';\n",
       "\n",
       "        async function convertToInteractive(key) {\n",
       "          const element = document.querySelector('#df-82b57245-fa66-4acd-8de0-59f7b58905c7');\n",
       "          const dataTable =\n",
       "            await google.colab.kernel.invokeFunction('convertToInteractive',\n",
       "                                                     [key], {});\n",
       "          if (!dataTable) return;\n",
       "\n",
       "          const docLinkHtml = 'Like what you see? Visit the ' +\n",
       "            '<a target=\"_blank\" href=https://colab.research.google.com/notebooks/data_table.ipynb>data table notebook</a>'\n",
       "            + ' to learn more about interactive tables.';\n",
       "          element.innerHTML = '';\n",
       "          dataTable['output_type'] = 'display_data';\n",
       "          await google.colab.output.renderOutput(dataTable, element);\n",
       "          const docLink = document.createElement('div');\n",
       "          docLink.innerHTML = docLinkHtml;\n",
       "          element.appendChild(docLink);\n",
       "        }\n",
       "      </script>\n",
       "    </div>\n",
       "  </div>\n",
       "  "
      ],
      "text/plain": [
       "         id      price\n",
       "0     15462 1095487.11\n",
       "1     11766 1100862.91\n",
       "2      9160 1125721.02\n",
       "3     53004 1739399.61\n",
       "4     10998  556246.48\n",
       "...     ...        ...\n",
       "3678  32006  700037.72\n",
       "3679   7234  640617.31\n",
       "3680  15366 2136440.30\n",
       "3681  31670 3380822.17\n",
       "3682  14384 4931738.28\n",
       "\n",
       "[3683 rows x 2 columns]"
      ]
     },
     "execution_count": 37,
     "metadata": {},
     "output_type": "execute_result"
    }
   ],
   "source": [
    "submission = pd.read_csv('sample_submission_houses.csv')\n",
    "submission.price = test_predictions\n",
    "\n",
    "submission"
   ]
  },
  {
   "cell_type": "markdown",
   "metadata": {
    "id": "sJ4519ryc8e-"
   },
   "source": [
    "This is the file you should submit to kaggle. You can download it from the menu on the left of the colab website. "
   ]
  },
  {
   "cell_type": "code",
   "execution_count": null,
   "metadata": {
    "id": "x-Qlel71YYM8"
   },
   "outputs": [],
   "source": [
    "submission.to_csv('submission.csv', index=False)\n"
   ]
  },
  {
   "cell_type": "markdown",
   "metadata": {
    "id": "SvVg3MvVKy1E"
   },
   "source": [
    "<h1><b>You made it till the end. Awesome. 🔥🔥🔥</b></h1>"
   ]
  }
 ],
 "metadata": {
  "colab": {
   "collapsed_sections": [
    "Fq6_q9opKy0X",
    "YyAYK_nTKy0Z",
    "lVr_4ajeKy0r",
    "sR9KdRErKy0w",
    "geYRFEMHKy0y",
    "mYlMTc7JKy00",
    "npb4_cldKy04"
   ],
   "provenance": []
  },
  "kernelspec": {
   "display_name": "Python 3",
   "language": "python",
   "name": "python3"
  },
  "language_info": {
   "codemirror_mode": {
    "name": "ipython",
    "version": 3
   },
   "file_extension": ".py",
   "mimetype": "text/x-python",
   "name": "python",
   "nbconvert_exporter": "python",
   "pygments_lexer": "ipython3",
   "version": "3.8.8"
  },
  "nav_menu": {
   "height": "279px",
   "width": "309px"
  },
  "toc": {
   "nav_menu": {},
   "number_sections": true,
   "sideBar": true,
   "skip_h1_title": false,
   "toc_cell": false,
   "toc_position": {},
   "toc_section_display": "block",
   "toc_window_display": false
  }
 },
 "nbformat": 4,
 "nbformat_minor": 1
}
